{
 "cells": [
  {
   "cell_type": "markdown",
   "id": "completed-acrobat",
   "metadata": {},
   "source": [
    "# Assignment - Decision Trees and Random Forests\n",
    "\n",
    "![](https://i.imgur.com/3sw1fY9.jpg)\n",
    "\n",
    "In this assignment, you'll continue building on the previous assignment to predict the price of a house using information like its location, area, no. of rooms etc. You'll use the dataset from the [House Prices - Advanced Regression Techniques](https://www.kaggle.com/c/house-prices-advanced-regression-techniques) competition on [Kaggle](https://kaggle.com). \n",
    "\n",
    "We'll follow a step-by-step process:\n",
    "\n",
    "1. Download and prepare the dataset for training\n",
    "2. Train, evaluate and interpret a decision tree\n",
    "3. Train, evaluate and interpret a random forest\n",
    "4. Tune hyperparameters to improve the model\n",
    "5. Make predictions and save the model\n",
    "\n",
    "As you go through this notebook, you will find a **???** in certain places. Your job is to replace the **???** with appropriate code or values, to ensure that the notebook runs properly end-to-end and your machine learning model is trained properly without errors. \n",
    "\n",
    "**Guidelines**\n",
    "\n",
    "1. Make sure to run all the code cells in order. Otherwise, you may get errors like `NameError` for undefined variables.\n",
    "2. Do not change variable names, delete cells, or disturb other existing code. It may cause problems during evaluation.\n",
    "3. In some cases, you may need to add some code cells or new statements before or after the line of code containing the **???**. \n",
    "4. Since you'll be using a temporary online service for code execution, save your work by running `jovian.commit` at regular intervals.\n",
    "5. Review the \"Evaluation Criteria\" for the assignment carefully and make sure your submission meets all the criteria.\n",
    "6. Questions marked **(Optional)** will not be considered for evaluation and can be skipped. They are for your learning.\n",
    "7. It's okay to ask for help & discuss ideas on the [community forum](https://jovian.ai/forum/c/zero-to-gbms/gbms-assignment-2/99), but please don't post full working code, to give everyone an opportunity to solve the assignment on their own.\n",
    "\n",
    "\n",
    "**Important Links**:\n",
    "\n",
    "- Make a submission here: https://jovian.ai/learn/machine-learning-with-python-zero-to-gbms/assignment/assignment-2-decision-trees-and-random-forests\n",
    "- Ask questions, discuss ideas and get help here: https://jovian.ai/forum/c/zero-to-gbms/gbms-assignment-2/99\n",
    "- Review this Jupyter notebook: https://jovian.ai/aakashns/sklearn-decision-trees-random-forests\n"
   ]
  },
  {
   "cell_type": "markdown",
   "id": "fluid-hormone",
   "metadata": {},
   "source": [
    "## How to Run the Code and Save Your Work\n",
    "\n",
    "**Option 1: Running using free online resources (1-click, recommended):** The easiest way to start executing the code is to click the **Run** button at the top of this page and select **Run on Binder**. This will set up a cloud-based Jupyter notebook server and allow you to modify/execute the code.\n",
    "\n",
    "\n",
    "**Option 2: Running on your computer locally:** To run the code on your computer locally, you'll need to set up [Python](https://www.python.org), download the notebook and install the required libraries. Click the **Run** button at the top of this page, select the **Run Locally** option, and follow the instructions.\n",
    "\n",
    "**Saving your work**: You can save a snapshot of the assignment to your [Jovian](https://jovian.ai) profile, so that you can access it later and continue your work. Keep saving your work by running `jovian.commit` from time to time."
   ]
  },
  {
   "cell_type": "code",
   "execution_count": 1,
   "id": "enhanced-volume",
   "metadata": {},
   "outputs": [],
   "source": [
    "!pip install jovian --upgrade --quiet"
   ]
  },
  {
   "cell_type": "code",
   "execution_count": 2,
   "id": "saved-police",
   "metadata": {},
   "outputs": [],
   "source": [
    "import jovian"
   ]
  },
  {
   "cell_type": "code",
   "execution_count": 3,
   "id": "offshore-musical",
   "metadata": {},
   "outputs": [
    {
     "data": {
      "application/javascript": [
       "window.require && require([\"base/js/namespace\"],function(Jupyter){Jupyter.notebook.save_checkpoint()})"
      ],
      "text/plain": [
       "<IPython.core.display.Javascript object>"
      ]
     },
     "metadata": {},
     "output_type": "display_data"
    },
    {
     "name": "stdout",
     "output_type": "stream",
     "text": [
      "[jovian] Creating a new project \"askarizaidi3/python-random-forests-assignment\"\u001b[0m\n",
      "[jovian] Committed successfully! https://jovian.ai/askarizaidi3/python-random-forests-assignment\u001b[0m\n"
     ]
    },
    {
     "data": {
      "text/plain": [
       "'https://jovian.ai/askarizaidi3/python-random-forests-assignment'"
      ]
     },
     "execution_count": 3,
     "metadata": {},
     "output_type": "execute_result"
    }
   ],
   "source": [
    "jovian.commit(project='python-random-forests-assignment', privacy='secret')"
   ]
  },
  {
   "cell_type": "markdown",
   "id": "hourly-rhythm",
   "metadata": {},
   "source": [
    "Let's begin by installing the required libraries."
   ]
  },
  {
   "cell_type": "code",
   "execution_count": 4,
   "id": "continent-yacht",
   "metadata": {},
   "outputs": [],
   "source": [
    "!pip install opendatasets scikit-learn plotly folium --upgrade --quiet"
   ]
  },
  {
   "cell_type": "code",
   "execution_count": 5,
   "id": "australian-suicide",
   "metadata": {},
   "outputs": [],
   "source": [
    "!pip install pandas numpy matplotlib seaborn --quiet"
   ]
  },
  {
   "cell_type": "markdown",
   "id": "twelve-thanksgiving",
   "metadata": {},
   "source": [
    "## Download and prepare the dataset for training"
   ]
  },
  {
   "cell_type": "code",
   "execution_count": 6,
   "id": "aggressive-taste",
   "metadata": {},
   "outputs": [
    {
     "data": {
      "text/plain": [
       "['data_description.txt', 'sample_submission.csv', 'test.csv', 'train.csv']"
      ]
     },
     "execution_count": 6,
     "metadata": {},
     "output_type": "execute_result"
    }
   ],
   "source": [
    "import os\n",
    "from zipfile import ZipFile\n",
    "from urllib.request import urlretrieve\n",
    "\n",
    "dataset_url = 'https://github.com/JovianML/opendatasets/raw/master/data/house-prices-advanced-regression-techniques.zip'\n",
    "urlretrieve(dataset_url, 'house-prices.zip')\n",
    "with ZipFile('house-prices.zip') as f:\n",
    "    f.extractall(path='house-prices')\n",
    "    \n",
    "os.listdir('house-prices')"
   ]
  },
  {
   "cell_type": "code",
   "execution_count": 7,
   "id": "tracked-window",
   "metadata": {},
   "outputs": [
    {
     "data": {
      "text/html": [
       "<div>\n",
       "<style scoped>\n",
       "    .dataframe tbody tr th:only-of-type {\n",
       "        vertical-align: middle;\n",
       "    }\n",
       "\n",
       "    .dataframe tbody tr th {\n",
       "        vertical-align: top;\n",
       "    }\n",
       "\n",
       "    .dataframe thead th {\n",
       "        text-align: right;\n",
       "    }\n",
       "</style>\n",
       "<table border=\"1\" class=\"dataframe\">\n",
       "  <thead>\n",
       "    <tr style=\"text-align: right;\">\n",
       "      <th></th>\n",
       "      <th>Id</th>\n",
       "      <th>MSSubClass</th>\n",
       "      <th>MSZoning</th>\n",
       "      <th>LotFrontage</th>\n",
       "      <th>LotArea</th>\n",
       "      <th>Street</th>\n",
       "      <th>Alley</th>\n",
       "      <th>LotShape</th>\n",
       "      <th>LandContour</th>\n",
       "      <th>Utilities</th>\n",
       "      <th>LotConfig</th>\n",
       "      <th>LandSlope</th>\n",
       "      <th>Neighborhood</th>\n",
       "      <th>Condition1</th>\n",
       "      <th>Condition2</th>\n",
       "      <th>BldgType</th>\n",
       "      <th>HouseStyle</th>\n",
       "      <th>OverallQual</th>\n",
       "      <th>OverallCond</th>\n",
       "      <th>YearBuilt</th>\n",
       "      <th>YearRemodAdd</th>\n",
       "      <th>RoofStyle</th>\n",
       "      <th>RoofMatl</th>\n",
       "      <th>Exterior1st</th>\n",
       "      <th>Exterior2nd</th>\n",
       "      <th>MasVnrType</th>\n",
       "      <th>MasVnrArea</th>\n",
       "      <th>ExterQual</th>\n",
       "      <th>ExterCond</th>\n",
       "      <th>Foundation</th>\n",
       "      <th>BsmtQual</th>\n",
       "      <th>BsmtCond</th>\n",
       "      <th>BsmtExposure</th>\n",
       "      <th>BsmtFinType1</th>\n",
       "      <th>BsmtFinSF1</th>\n",
       "      <th>BsmtFinType2</th>\n",
       "      <th>BsmtFinSF2</th>\n",
       "      <th>BsmtUnfSF</th>\n",
       "      <th>TotalBsmtSF</th>\n",
       "      <th>Heating</th>\n",
       "      <th>HeatingQC</th>\n",
       "      <th>CentralAir</th>\n",
       "      <th>Electrical</th>\n",
       "      <th>1stFlrSF</th>\n",
       "      <th>2ndFlrSF</th>\n",
       "      <th>LowQualFinSF</th>\n",
       "      <th>GrLivArea</th>\n",
       "      <th>BsmtFullBath</th>\n",
       "      <th>BsmtHalfBath</th>\n",
       "      <th>FullBath</th>\n",
       "      <th>HalfBath</th>\n",
       "      <th>BedroomAbvGr</th>\n",
       "      <th>KitchenAbvGr</th>\n",
       "      <th>KitchenQual</th>\n",
       "      <th>TotRmsAbvGrd</th>\n",
       "      <th>Functional</th>\n",
       "      <th>Fireplaces</th>\n",
       "      <th>FireplaceQu</th>\n",
       "      <th>GarageType</th>\n",
       "      <th>GarageYrBlt</th>\n",
       "      <th>GarageFinish</th>\n",
       "      <th>GarageCars</th>\n",
       "      <th>GarageArea</th>\n",
       "      <th>GarageQual</th>\n",
       "      <th>GarageCond</th>\n",
       "      <th>PavedDrive</th>\n",
       "      <th>WoodDeckSF</th>\n",
       "      <th>OpenPorchSF</th>\n",
       "      <th>EnclosedPorch</th>\n",
       "      <th>3SsnPorch</th>\n",
       "      <th>ScreenPorch</th>\n",
       "      <th>PoolArea</th>\n",
       "      <th>PoolQC</th>\n",
       "      <th>Fence</th>\n",
       "      <th>MiscFeature</th>\n",
       "      <th>MiscVal</th>\n",
       "      <th>MoSold</th>\n",
       "      <th>YrSold</th>\n",
       "      <th>SaleType</th>\n",
       "      <th>SaleCondition</th>\n",
       "      <th>SalePrice</th>\n",
       "    </tr>\n",
       "  </thead>\n",
       "  <tbody>\n",
       "    <tr>\n",
       "      <th>0</th>\n",
       "      <td>1</td>\n",
       "      <td>60</td>\n",
       "      <td>RL</td>\n",
       "      <td>65.0</td>\n",
       "      <td>8450</td>\n",
       "      <td>Pave</td>\n",
       "      <td>NaN</td>\n",
       "      <td>Reg</td>\n",
       "      <td>Lvl</td>\n",
       "      <td>AllPub</td>\n",
       "      <td>Inside</td>\n",
       "      <td>Gtl</td>\n",
       "      <td>CollgCr</td>\n",
       "      <td>Norm</td>\n",
       "      <td>Norm</td>\n",
       "      <td>1Fam</td>\n",
       "      <td>2Story</td>\n",
       "      <td>7</td>\n",
       "      <td>5</td>\n",
       "      <td>2003</td>\n",
       "      <td>2003</td>\n",
       "      <td>Gable</td>\n",
       "      <td>CompShg</td>\n",
       "      <td>VinylSd</td>\n",
       "      <td>VinylSd</td>\n",
       "      <td>BrkFace</td>\n",
       "      <td>196.0</td>\n",
       "      <td>Gd</td>\n",
       "      <td>TA</td>\n",
       "      <td>PConc</td>\n",
       "      <td>Gd</td>\n",
       "      <td>TA</td>\n",
       "      <td>No</td>\n",
       "      <td>GLQ</td>\n",
       "      <td>706</td>\n",
       "      <td>Unf</td>\n",
       "      <td>0</td>\n",
       "      <td>150</td>\n",
       "      <td>856</td>\n",
       "      <td>GasA</td>\n",
       "      <td>Ex</td>\n",
       "      <td>Y</td>\n",
       "      <td>SBrkr</td>\n",
       "      <td>856</td>\n",
       "      <td>854</td>\n",
       "      <td>0</td>\n",
       "      <td>1710</td>\n",
       "      <td>1</td>\n",
       "      <td>0</td>\n",
       "      <td>2</td>\n",
       "      <td>1</td>\n",
       "      <td>3</td>\n",
       "      <td>1</td>\n",
       "      <td>Gd</td>\n",
       "      <td>8</td>\n",
       "      <td>Typ</td>\n",
       "      <td>0</td>\n",
       "      <td>NaN</td>\n",
       "      <td>Attchd</td>\n",
       "      <td>2003.0</td>\n",
       "      <td>RFn</td>\n",
       "      <td>2</td>\n",
       "      <td>548</td>\n",
       "      <td>TA</td>\n",
       "      <td>TA</td>\n",
       "      <td>Y</td>\n",
       "      <td>0</td>\n",
       "      <td>61</td>\n",
       "      <td>0</td>\n",
       "      <td>0</td>\n",
       "      <td>0</td>\n",
       "      <td>0</td>\n",
       "      <td>NaN</td>\n",
       "      <td>NaN</td>\n",
       "      <td>NaN</td>\n",
       "      <td>0</td>\n",
       "      <td>2</td>\n",
       "      <td>2008</td>\n",
       "      <td>WD</td>\n",
       "      <td>Normal</td>\n",
       "      <td>208500</td>\n",
       "    </tr>\n",
       "    <tr>\n",
       "      <th>1</th>\n",
       "      <td>2</td>\n",
       "      <td>20</td>\n",
       "      <td>RL</td>\n",
       "      <td>80.0</td>\n",
       "      <td>9600</td>\n",
       "      <td>Pave</td>\n",
       "      <td>NaN</td>\n",
       "      <td>Reg</td>\n",
       "      <td>Lvl</td>\n",
       "      <td>AllPub</td>\n",
       "      <td>FR2</td>\n",
       "      <td>Gtl</td>\n",
       "      <td>Veenker</td>\n",
       "      <td>Feedr</td>\n",
       "      <td>Norm</td>\n",
       "      <td>1Fam</td>\n",
       "      <td>1Story</td>\n",
       "      <td>6</td>\n",
       "      <td>8</td>\n",
       "      <td>1976</td>\n",
       "      <td>1976</td>\n",
       "      <td>Gable</td>\n",
       "      <td>CompShg</td>\n",
       "      <td>MetalSd</td>\n",
       "      <td>MetalSd</td>\n",
       "      <td>None</td>\n",
       "      <td>0.0</td>\n",
       "      <td>TA</td>\n",
       "      <td>TA</td>\n",
       "      <td>CBlock</td>\n",
       "      <td>Gd</td>\n",
       "      <td>TA</td>\n",
       "      <td>Gd</td>\n",
       "      <td>ALQ</td>\n",
       "      <td>978</td>\n",
       "      <td>Unf</td>\n",
       "      <td>0</td>\n",
       "      <td>284</td>\n",
       "      <td>1262</td>\n",
       "      <td>GasA</td>\n",
       "      <td>Ex</td>\n",
       "      <td>Y</td>\n",
       "      <td>SBrkr</td>\n",
       "      <td>1262</td>\n",
       "      <td>0</td>\n",
       "      <td>0</td>\n",
       "      <td>1262</td>\n",
       "      <td>0</td>\n",
       "      <td>1</td>\n",
       "      <td>2</td>\n",
       "      <td>0</td>\n",
       "      <td>3</td>\n",
       "      <td>1</td>\n",
       "      <td>TA</td>\n",
       "      <td>6</td>\n",
       "      <td>Typ</td>\n",
       "      <td>1</td>\n",
       "      <td>TA</td>\n",
       "      <td>Attchd</td>\n",
       "      <td>1976.0</td>\n",
       "      <td>RFn</td>\n",
       "      <td>2</td>\n",
       "      <td>460</td>\n",
       "      <td>TA</td>\n",
       "      <td>TA</td>\n",
       "      <td>Y</td>\n",
       "      <td>298</td>\n",
       "      <td>0</td>\n",
       "      <td>0</td>\n",
       "      <td>0</td>\n",
       "      <td>0</td>\n",
       "      <td>0</td>\n",
       "      <td>NaN</td>\n",
       "      <td>NaN</td>\n",
       "      <td>NaN</td>\n",
       "      <td>0</td>\n",
       "      <td>5</td>\n",
       "      <td>2007</td>\n",
       "      <td>WD</td>\n",
       "      <td>Normal</td>\n",
       "      <td>181500</td>\n",
       "    </tr>\n",
       "    <tr>\n",
       "      <th>2</th>\n",
       "      <td>3</td>\n",
       "      <td>60</td>\n",
       "      <td>RL</td>\n",
       "      <td>68.0</td>\n",
       "      <td>11250</td>\n",
       "      <td>Pave</td>\n",
       "      <td>NaN</td>\n",
       "      <td>IR1</td>\n",
       "      <td>Lvl</td>\n",
       "      <td>AllPub</td>\n",
       "      <td>Inside</td>\n",
       "      <td>Gtl</td>\n",
       "      <td>CollgCr</td>\n",
       "      <td>Norm</td>\n",
       "      <td>Norm</td>\n",
       "      <td>1Fam</td>\n",
       "      <td>2Story</td>\n",
       "      <td>7</td>\n",
       "      <td>5</td>\n",
       "      <td>2001</td>\n",
       "      <td>2002</td>\n",
       "      <td>Gable</td>\n",
       "      <td>CompShg</td>\n",
       "      <td>VinylSd</td>\n",
       "      <td>VinylSd</td>\n",
       "      <td>BrkFace</td>\n",
       "      <td>162.0</td>\n",
       "      <td>Gd</td>\n",
       "      <td>TA</td>\n",
       "      <td>PConc</td>\n",
       "      <td>Gd</td>\n",
       "      <td>TA</td>\n",
       "      <td>Mn</td>\n",
       "      <td>GLQ</td>\n",
       "      <td>486</td>\n",
       "      <td>Unf</td>\n",
       "      <td>0</td>\n",
       "      <td>434</td>\n",
       "      <td>920</td>\n",
       "      <td>GasA</td>\n",
       "      <td>Ex</td>\n",
       "      <td>Y</td>\n",
       "      <td>SBrkr</td>\n",
       "      <td>920</td>\n",
       "      <td>866</td>\n",
       "      <td>0</td>\n",
       "      <td>1786</td>\n",
       "      <td>1</td>\n",
       "      <td>0</td>\n",
       "      <td>2</td>\n",
       "      <td>1</td>\n",
       "      <td>3</td>\n",
       "      <td>1</td>\n",
       "      <td>Gd</td>\n",
       "      <td>6</td>\n",
       "      <td>Typ</td>\n",
       "      <td>1</td>\n",
       "      <td>TA</td>\n",
       "      <td>Attchd</td>\n",
       "      <td>2001.0</td>\n",
       "      <td>RFn</td>\n",
       "      <td>2</td>\n",
       "      <td>608</td>\n",
       "      <td>TA</td>\n",
       "      <td>TA</td>\n",
       "      <td>Y</td>\n",
       "      <td>0</td>\n",
       "      <td>42</td>\n",
       "      <td>0</td>\n",
       "      <td>0</td>\n",
       "      <td>0</td>\n",
       "      <td>0</td>\n",
       "      <td>NaN</td>\n",
       "      <td>NaN</td>\n",
       "      <td>NaN</td>\n",
       "      <td>0</td>\n",
       "      <td>9</td>\n",
       "      <td>2008</td>\n",
       "      <td>WD</td>\n",
       "      <td>Normal</td>\n",
       "      <td>223500</td>\n",
       "    </tr>\n",
       "    <tr>\n",
       "      <th>3</th>\n",
       "      <td>4</td>\n",
       "      <td>70</td>\n",
       "      <td>RL</td>\n",
       "      <td>60.0</td>\n",
       "      <td>9550</td>\n",
       "      <td>Pave</td>\n",
       "      <td>NaN</td>\n",
       "      <td>IR1</td>\n",
       "      <td>Lvl</td>\n",
       "      <td>AllPub</td>\n",
       "      <td>Corner</td>\n",
       "      <td>Gtl</td>\n",
       "      <td>Crawfor</td>\n",
       "      <td>Norm</td>\n",
       "      <td>Norm</td>\n",
       "      <td>1Fam</td>\n",
       "      <td>2Story</td>\n",
       "      <td>7</td>\n",
       "      <td>5</td>\n",
       "      <td>1915</td>\n",
       "      <td>1970</td>\n",
       "      <td>Gable</td>\n",
       "      <td>CompShg</td>\n",
       "      <td>Wd Sdng</td>\n",
       "      <td>Wd Shng</td>\n",
       "      <td>None</td>\n",
       "      <td>0.0</td>\n",
       "      <td>TA</td>\n",
       "      <td>TA</td>\n",
       "      <td>BrkTil</td>\n",
       "      <td>TA</td>\n",
       "      <td>Gd</td>\n",
       "      <td>No</td>\n",
       "      <td>ALQ</td>\n",
       "      <td>216</td>\n",
       "      <td>Unf</td>\n",
       "      <td>0</td>\n",
       "      <td>540</td>\n",
       "      <td>756</td>\n",
       "      <td>GasA</td>\n",
       "      <td>Gd</td>\n",
       "      <td>Y</td>\n",
       "      <td>SBrkr</td>\n",
       "      <td>961</td>\n",
       "      <td>756</td>\n",
       "      <td>0</td>\n",
       "      <td>1717</td>\n",
       "      <td>1</td>\n",
       "      <td>0</td>\n",
       "      <td>1</td>\n",
       "      <td>0</td>\n",
       "      <td>3</td>\n",
       "      <td>1</td>\n",
       "      <td>Gd</td>\n",
       "      <td>7</td>\n",
       "      <td>Typ</td>\n",
       "      <td>1</td>\n",
       "      <td>Gd</td>\n",
       "      <td>Detchd</td>\n",
       "      <td>1998.0</td>\n",
       "      <td>Unf</td>\n",
       "      <td>3</td>\n",
       "      <td>642</td>\n",
       "      <td>TA</td>\n",
       "      <td>TA</td>\n",
       "      <td>Y</td>\n",
       "      <td>0</td>\n",
       "      <td>35</td>\n",
       "      <td>272</td>\n",
       "      <td>0</td>\n",
       "      <td>0</td>\n",
       "      <td>0</td>\n",
       "      <td>NaN</td>\n",
       "      <td>NaN</td>\n",
       "      <td>NaN</td>\n",
       "      <td>0</td>\n",
       "      <td>2</td>\n",
       "      <td>2006</td>\n",
       "      <td>WD</td>\n",
       "      <td>Abnorml</td>\n",
       "      <td>140000</td>\n",
       "    </tr>\n",
       "    <tr>\n",
       "      <th>4</th>\n",
       "      <td>5</td>\n",
       "      <td>60</td>\n",
       "      <td>RL</td>\n",
       "      <td>84.0</td>\n",
       "      <td>14260</td>\n",
       "      <td>Pave</td>\n",
       "      <td>NaN</td>\n",
       "      <td>IR1</td>\n",
       "      <td>Lvl</td>\n",
       "      <td>AllPub</td>\n",
       "      <td>FR2</td>\n",
       "      <td>Gtl</td>\n",
       "      <td>NoRidge</td>\n",
       "      <td>Norm</td>\n",
       "      <td>Norm</td>\n",
       "      <td>1Fam</td>\n",
       "      <td>2Story</td>\n",
       "      <td>8</td>\n",
       "      <td>5</td>\n",
       "      <td>2000</td>\n",
       "      <td>2000</td>\n",
       "      <td>Gable</td>\n",
       "      <td>CompShg</td>\n",
       "      <td>VinylSd</td>\n",
       "      <td>VinylSd</td>\n",
       "      <td>BrkFace</td>\n",
       "      <td>350.0</td>\n",
       "      <td>Gd</td>\n",
       "      <td>TA</td>\n",
       "      <td>PConc</td>\n",
       "      <td>Gd</td>\n",
       "      <td>TA</td>\n",
       "      <td>Av</td>\n",
       "      <td>GLQ</td>\n",
       "      <td>655</td>\n",
       "      <td>Unf</td>\n",
       "      <td>0</td>\n",
       "      <td>490</td>\n",
       "      <td>1145</td>\n",
       "      <td>GasA</td>\n",
       "      <td>Ex</td>\n",
       "      <td>Y</td>\n",
       "      <td>SBrkr</td>\n",
       "      <td>1145</td>\n",
       "      <td>1053</td>\n",
       "      <td>0</td>\n",
       "      <td>2198</td>\n",
       "      <td>1</td>\n",
       "      <td>0</td>\n",
       "      <td>2</td>\n",
       "      <td>1</td>\n",
       "      <td>4</td>\n",
       "      <td>1</td>\n",
       "      <td>Gd</td>\n",
       "      <td>9</td>\n",
       "      <td>Typ</td>\n",
       "      <td>1</td>\n",
       "      <td>TA</td>\n",
       "      <td>Attchd</td>\n",
       "      <td>2000.0</td>\n",
       "      <td>RFn</td>\n",
       "      <td>3</td>\n",
       "      <td>836</td>\n",
       "      <td>TA</td>\n",
       "      <td>TA</td>\n",
       "      <td>Y</td>\n",
       "      <td>192</td>\n",
       "      <td>84</td>\n",
       "      <td>0</td>\n",
       "      <td>0</td>\n",
       "      <td>0</td>\n",
       "      <td>0</td>\n",
       "      <td>NaN</td>\n",
       "      <td>NaN</td>\n",
       "      <td>NaN</td>\n",
       "      <td>0</td>\n",
       "      <td>12</td>\n",
       "      <td>2008</td>\n",
       "      <td>WD</td>\n",
       "      <td>Normal</td>\n",
       "      <td>250000</td>\n",
       "    </tr>\n",
       "    <tr>\n",
       "      <th>...</th>\n",
       "      <td>...</td>\n",
       "      <td>...</td>\n",
       "      <td>...</td>\n",
       "      <td>...</td>\n",
       "      <td>...</td>\n",
       "      <td>...</td>\n",
       "      <td>...</td>\n",
       "      <td>...</td>\n",
       "      <td>...</td>\n",
       "      <td>...</td>\n",
       "      <td>...</td>\n",
       "      <td>...</td>\n",
       "      <td>...</td>\n",
       "      <td>...</td>\n",
       "      <td>...</td>\n",
       "      <td>...</td>\n",
       "      <td>...</td>\n",
       "      <td>...</td>\n",
       "      <td>...</td>\n",
       "      <td>...</td>\n",
       "      <td>...</td>\n",
       "      <td>...</td>\n",
       "      <td>...</td>\n",
       "      <td>...</td>\n",
       "      <td>...</td>\n",
       "      <td>...</td>\n",
       "      <td>...</td>\n",
       "      <td>...</td>\n",
       "      <td>...</td>\n",
       "      <td>...</td>\n",
       "      <td>...</td>\n",
       "      <td>...</td>\n",
       "      <td>...</td>\n",
       "      <td>...</td>\n",
       "      <td>...</td>\n",
       "      <td>...</td>\n",
       "      <td>...</td>\n",
       "      <td>...</td>\n",
       "      <td>...</td>\n",
       "      <td>...</td>\n",
       "      <td>...</td>\n",
       "      <td>...</td>\n",
       "      <td>...</td>\n",
       "      <td>...</td>\n",
       "      <td>...</td>\n",
       "      <td>...</td>\n",
       "      <td>...</td>\n",
       "      <td>...</td>\n",
       "      <td>...</td>\n",
       "      <td>...</td>\n",
       "      <td>...</td>\n",
       "      <td>...</td>\n",
       "      <td>...</td>\n",
       "      <td>...</td>\n",
       "      <td>...</td>\n",
       "      <td>...</td>\n",
       "      <td>...</td>\n",
       "      <td>...</td>\n",
       "      <td>...</td>\n",
       "      <td>...</td>\n",
       "      <td>...</td>\n",
       "      <td>...</td>\n",
       "      <td>...</td>\n",
       "      <td>...</td>\n",
       "      <td>...</td>\n",
       "      <td>...</td>\n",
       "      <td>...</td>\n",
       "      <td>...</td>\n",
       "      <td>...</td>\n",
       "      <td>...</td>\n",
       "      <td>...</td>\n",
       "      <td>...</td>\n",
       "      <td>...</td>\n",
       "      <td>...</td>\n",
       "      <td>...</td>\n",
       "      <td>...</td>\n",
       "      <td>...</td>\n",
       "      <td>...</td>\n",
       "      <td>...</td>\n",
       "      <td>...</td>\n",
       "      <td>...</td>\n",
       "    </tr>\n",
       "    <tr>\n",
       "      <th>1455</th>\n",
       "      <td>1456</td>\n",
       "      <td>60</td>\n",
       "      <td>RL</td>\n",
       "      <td>62.0</td>\n",
       "      <td>7917</td>\n",
       "      <td>Pave</td>\n",
       "      <td>NaN</td>\n",
       "      <td>Reg</td>\n",
       "      <td>Lvl</td>\n",
       "      <td>AllPub</td>\n",
       "      <td>Inside</td>\n",
       "      <td>Gtl</td>\n",
       "      <td>Gilbert</td>\n",
       "      <td>Norm</td>\n",
       "      <td>Norm</td>\n",
       "      <td>1Fam</td>\n",
       "      <td>2Story</td>\n",
       "      <td>6</td>\n",
       "      <td>5</td>\n",
       "      <td>1999</td>\n",
       "      <td>2000</td>\n",
       "      <td>Gable</td>\n",
       "      <td>CompShg</td>\n",
       "      <td>VinylSd</td>\n",
       "      <td>VinylSd</td>\n",
       "      <td>None</td>\n",
       "      <td>0.0</td>\n",
       "      <td>TA</td>\n",
       "      <td>TA</td>\n",
       "      <td>PConc</td>\n",
       "      <td>Gd</td>\n",
       "      <td>TA</td>\n",
       "      <td>No</td>\n",
       "      <td>Unf</td>\n",
       "      <td>0</td>\n",
       "      <td>Unf</td>\n",
       "      <td>0</td>\n",
       "      <td>953</td>\n",
       "      <td>953</td>\n",
       "      <td>GasA</td>\n",
       "      <td>Ex</td>\n",
       "      <td>Y</td>\n",
       "      <td>SBrkr</td>\n",
       "      <td>953</td>\n",
       "      <td>694</td>\n",
       "      <td>0</td>\n",
       "      <td>1647</td>\n",
       "      <td>0</td>\n",
       "      <td>0</td>\n",
       "      <td>2</td>\n",
       "      <td>1</td>\n",
       "      <td>3</td>\n",
       "      <td>1</td>\n",
       "      <td>TA</td>\n",
       "      <td>7</td>\n",
       "      <td>Typ</td>\n",
       "      <td>1</td>\n",
       "      <td>TA</td>\n",
       "      <td>Attchd</td>\n",
       "      <td>1999.0</td>\n",
       "      <td>RFn</td>\n",
       "      <td>2</td>\n",
       "      <td>460</td>\n",
       "      <td>TA</td>\n",
       "      <td>TA</td>\n",
       "      <td>Y</td>\n",
       "      <td>0</td>\n",
       "      <td>40</td>\n",
       "      <td>0</td>\n",
       "      <td>0</td>\n",
       "      <td>0</td>\n",
       "      <td>0</td>\n",
       "      <td>NaN</td>\n",
       "      <td>NaN</td>\n",
       "      <td>NaN</td>\n",
       "      <td>0</td>\n",
       "      <td>8</td>\n",
       "      <td>2007</td>\n",
       "      <td>WD</td>\n",
       "      <td>Normal</td>\n",
       "      <td>175000</td>\n",
       "    </tr>\n",
       "    <tr>\n",
       "      <th>1456</th>\n",
       "      <td>1457</td>\n",
       "      <td>20</td>\n",
       "      <td>RL</td>\n",
       "      <td>85.0</td>\n",
       "      <td>13175</td>\n",
       "      <td>Pave</td>\n",
       "      <td>NaN</td>\n",
       "      <td>Reg</td>\n",
       "      <td>Lvl</td>\n",
       "      <td>AllPub</td>\n",
       "      <td>Inside</td>\n",
       "      <td>Gtl</td>\n",
       "      <td>NWAmes</td>\n",
       "      <td>Norm</td>\n",
       "      <td>Norm</td>\n",
       "      <td>1Fam</td>\n",
       "      <td>1Story</td>\n",
       "      <td>6</td>\n",
       "      <td>6</td>\n",
       "      <td>1978</td>\n",
       "      <td>1988</td>\n",
       "      <td>Gable</td>\n",
       "      <td>CompShg</td>\n",
       "      <td>Plywood</td>\n",
       "      <td>Plywood</td>\n",
       "      <td>Stone</td>\n",
       "      <td>119.0</td>\n",
       "      <td>TA</td>\n",
       "      <td>TA</td>\n",
       "      <td>CBlock</td>\n",
       "      <td>Gd</td>\n",
       "      <td>TA</td>\n",
       "      <td>No</td>\n",
       "      <td>ALQ</td>\n",
       "      <td>790</td>\n",
       "      <td>Rec</td>\n",
       "      <td>163</td>\n",
       "      <td>589</td>\n",
       "      <td>1542</td>\n",
       "      <td>GasA</td>\n",
       "      <td>TA</td>\n",
       "      <td>Y</td>\n",
       "      <td>SBrkr</td>\n",
       "      <td>2073</td>\n",
       "      <td>0</td>\n",
       "      <td>0</td>\n",
       "      <td>2073</td>\n",
       "      <td>1</td>\n",
       "      <td>0</td>\n",
       "      <td>2</td>\n",
       "      <td>0</td>\n",
       "      <td>3</td>\n",
       "      <td>1</td>\n",
       "      <td>TA</td>\n",
       "      <td>7</td>\n",
       "      <td>Min1</td>\n",
       "      <td>2</td>\n",
       "      <td>TA</td>\n",
       "      <td>Attchd</td>\n",
       "      <td>1978.0</td>\n",
       "      <td>Unf</td>\n",
       "      <td>2</td>\n",
       "      <td>500</td>\n",
       "      <td>TA</td>\n",
       "      <td>TA</td>\n",
       "      <td>Y</td>\n",
       "      <td>349</td>\n",
       "      <td>0</td>\n",
       "      <td>0</td>\n",
       "      <td>0</td>\n",
       "      <td>0</td>\n",
       "      <td>0</td>\n",
       "      <td>NaN</td>\n",
       "      <td>MnPrv</td>\n",
       "      <td>NaN</td>\n",
       "      <td>0</td>\n",
       "      <td>2</td>\n",
       "      <td>2010</td>\n",
       "      <td>WD</td>\n",
       "      <td>Normal</td>\n",
       "      <td>210000</td>\n",
       "    </tr>\n",
       "    <tr>\n",
       "      <th>1457</th>\n",
       "      <td>1458</td>\n",
       "      <td>70</td>\n",
       "      <td>RL</td>\n",
       "      <td>66.0</td>\n",
       "      <td>9042</td>\n",
       "      <td>Pave</td>\n",
       "      <td>NaN</td>\n",
       "      <td>Reg</td>\n",
       "      <td>Lvl</td>\n",
       "      <td>AllPub</td>\n",
       "      <td>Inside</td>\n",
       "      <td>Gtl</td>\n",
       "      <td>Crawfor</td>\n",
       "      <td>Norm</td>\n",
       "      <td>Norm</td>\n",
       "      <td>1Fam</td>\n",
       "      <td>2Story</td>\n",
       "      <td>7</td>\n",
       "      <td>9</td>\n",
       "      <td>1941</td>\n",
       "      <td>2006</td>\n",
       "      <td>Gable</td>\n",
       "      <td>CompShg</td>\n",
       "      <td>CemntBd</td>\n",
       "      <td>CmentBd</td>\n",
       "      <td>None</td>\n",
       "      <td>0.0</td>\n",
       "      <td>Ex</td>\n",
       "      <td>Gd</td>\n",
       "      <td>Stone</td>\n",
       "      <td>TA</td>\n",
       "      <td>Gd</td>\n",
       "      <td>No</td>\n",
       "      <td>GLQ</td>\n",
       "      <td>275</td>\n",
       "      <td>Unf</td>\n",
       "      <td>0</td>\n",
       "      <td>877</td>\n",
       "      <td>1152</td>\n",
       "      <td>GasA</td>\n",
       "      <td>Ex</td>\n",
       "      <td>Y</td>\n",
       "      <td>SBrkr</td>\n",
       "      <td>1188</td>\n",
       "      <td>1152</td>\n",
       "      <td>0</td>\n",
       "      <td>2340</td>\n",
       "      <td>0</td>\n",
       "      <td>0</td>\n",
       "      <td>2</td>\n",
       "      <td>0</td>\n",
       "      <td>4</td>\n",
       "      <td>1</td>\n",
       "      <td>Gd</td>\n",
       "      <td>9</td>\n",
       "      <td>Typ</td>\n",
       "      <td>2</td>\n",
       "      <td>Gd</td>\n",
       "      <td>Attchd</td>\n",
       "      <td>1941.0</td>\n",
       "      <td>RFn</td>\n",
       "      <td>1</td>\n",
       "      <td>252</td>\n",
       "      <td>TA</td>\n",
       "      <td>TA</td>\n",
       "      <td>Y</td>\n",
       "      <td>0</td>\n",
       "      <td>60</td>\n",
       "      <td>0</td>\n",
       "      <td>0</td>\n",
       "      <td>0</td>\n",
       "      <td>0</td>\n",
       "      <td>NaN</td>\n",
       "      <td>GdPrv</td>\n",
       "      <td>Shed</td>\n",
       "      <td>2500</td>\n",
       "      <td>5</td>\n",
       "      <td>2010</td>\n",
       "      <td>WD</td>\n",
       "      <td>Normal</td>\n",
       "      <td>266500</td>\n",
       "    </tr>\n",
       "    <tr>\n",
       "      <th>1458</th>\n",
       "      <td>1459</td>\n",
       "      <td>20</td>\n",
       "      <td>RL</td>\n",
       "      <td>68.0</td>\n",
       "      <td>9717</td>\n",
       "      <td>Pave</td>\n",
       "      <td>NaN</td>\n",
       "      <td>Reg</td>\n",
       "      <td>Lvl</td>\n",
       "      <td>AllPub</td>\n",
       "      <td>Inside</td>\n",
       "      <td>Gtl</td>\n",
       "      <td>NAmes</td>\n",
       "      <td>Norm</td>\n",
       "      <td>Norm</td>\n",
       "      <td>1Fam</td>\n",
       "      <td>1Story</td>\n",
       "      <td>5</td>\n",
       "      <td>6</td>\n",
       "      <td>1950</td>\n",
       "      <td>1996</td>\n",
       "      <td>Hip</td>\n",
       "      <td>CompShg</td>\n",
       "      <td>MetalSd</td>\n",
       "      <td>MetalSd</td>\n",
       "      <td>None</td>\n",
       "      <td>0.0</td>\n",
       "      <td>TA</td>\n",
       "      <td>TA</td>\n",
       "      <td>CBlock</td>\n",
       "      <td>TA</td>\n",
       "      <td>TA</td>\n",
       "      <td>Mn</td>\n",
       "      <td>GLQ</td>\n",
       "      <td>49</td>\n",
       "      <td>Rec</td>\n",
       "      <td>1029</td>\n",
       "      <td>0</td>\n",
       "      <td>1078</td>\n",
       "      <td>GasA</td>\n",
       "      <td>Gd</td>\n",
       "      <td>Y</td>\n",
       "      <td>FuseA</td>\n",
       "      <td>1078</td>\n",
       "      <td>0</td>\n",
       "      <td>0</td>\n",
       "      <td>1078</td>\n",
       "      <td>1</td>\n",
       "      <td>0</td>\n",
       "      <td>1</td>\n",
       "      <td>0</td>\n",
       "      <td>2</td>\n",
       "      <td>1</td>\n",
       "      <td>Gd</td>\n",
       "      <td>5</td>\n",
       "      <td>Typ</td>\n",
       "      <td>0</td>\n",
       "      <td>NaN</td>\n",
       "      <td>Attchd</td>\n",
       "      <td>1950.0</td>\n",
       "      <td>Unf</td>\n",
       "      <td>1</td>\n",
       "      <td>240</td>\n",
       "      <td>TA</td>\n",
       "      <td>TA</td>\n",
       "      <td>Y</td>\n",
       "      <td>366</td>\n",
       "      <td>0</td>\n",
       "      <td>112</td>\n",
       "      <td>0</td>\n",
       "      <td>0</td>\n",
       "      <td>0</td>\n",
       "      <td>NaN</td>\n",
       "      <td>NaN</td>\n",
       "      <td>NaN</td>\n",
       "      <td>0</td>\n",
       "      <td>4</td>\n",
       "      <td>2010</td>\n",
       "      <td>WD</td>\n",
       "      <td>Normal</td>\n",
       "      <td>142125</td>\n",
       "    </tr>\n",
       "    <tr>\n",
       "      <th>1459</th>\n",
       "      <td>1460</td>\n",
       "      <td>20</td>\n",
       "      <td>RL</td>\n",
       "      <td>75.0</td>\n",
       "      <td>9937</td>\n",
       "      <td>Pave</td>\n",
       "      <td>NaN</td>\n",
       "      <td>Reg</td>\n",
       "      <td>Lvl</td>\n",
       "      <td>AllPub</td>\n",
       "      <td>Inside</td>\n",
       "      <td>Gtl</td>\n",
       "      <td>Edwards</td>\n",
       "      <td>Norm</td>\n",
       "      <td>Norm</td>\n",
       "      <td>1Fam</td>\n",
       "      <td>1Story</td>\n",
       "      <td>5</td>\n",
       "      <td>6</td>\n",
       "      <td>1965</td>\n",
       "      <td>1965</td>\n",
       "      <td>Gable</td>\n",
       "      <td>CompShg</td>\n",
       "      <td>HdBoard</td>\n",
       "      <td>HdBoard</td>\n",
       "      <td>None</td>\n",
       "      <td>0.0</td>\n",
       "      <td>Gd</td>\n",
       "      <td>TA</td>\n",
       "      <td>CBlock</td>\n",
       "      <td>TA</td>\n",
       "      <td>TA</td>\n",
       "      <td>No</td>\n",
       "      <td>BLQ</td>\n",
       "      <td>830</td>\n",
       "      <td>LwQ</td>\n",
       "      <td>290</td>\n",
       "      <td>136</td>\n",
       "      <td>1256</td>\n",
       "      <td>GasA</td>\n",
       "      <td>Gd</td>\n",
       "      <td>Y</td>\n",
       "      <td>SBrkr</td>\n",
       "      <td>1256</td>\n",
       "      <td>0</td>\n",
       "      <td>0</td>\n",
       "      <td>1256</td>\n",
       "      <td>1</td>\n",
       "      <td>0</td>\n",
       "      <td>1</td>\n",
       "      <td>1</td>\n",
       "      <td>3</td>\n",
       "      <td>1</td>\n",
       "      <td>TA</td>\n",
       "      <td>6</td>\n",
       "      <td>Typ</td>\n",
       "      <td>0</td>\n",
       "      <td>NaN</td>\n",
       "      <td>Attchd</td>\n",
       "      <td>1965.0</td>\n",
       "      <td>Fin</td>\n",
       "      <td>1</td>\n",
       "      <td>276</td>\n",
       "      <td>TA</td>\n",
       "      <td>TA</td>\n",
       "      <td>Y</td>\n",
       "      <td>736</td>\n",
       "      <td>68</td>\n",
       "      <td>0</td>\n",
       "      <td>0</td>\n",
       "      <td>0</td>\n",
       "      <td>0</td>\n",
       "      <td>NaN</td>\n",
       "      <td>NaN</td>\n",
       "      <td>NaN</td>\n",
       "      <td>0</td>\n",
       "      <td>6</td>\n",
       "      <td>2008</td>\n",
       "      <td>WD</td>\n",
       "      <td>Normal</td>\n",
       "      <td>147500</td>\n",
       "    </tr>\n",
       "  </tbody>\n",
       "</table>\n",
       "<p>1460 rows × 81 columns</p>\n",
       "</div>"
      ],
      "text/plain": [
       "        Id  MSSubClass MSZoning  LotFrontage  LotArea Street Alley LotShape  \\\n",
       "0        1          60       RL         65.0     8450   Pave   NaN      Reg   \n",
       "1        2          20       RL         80.0     9600   Pave   NaN      Reg   \n",
       "2        3          60       RL         68.0    11250   Pave   NaN      IR1   \n",
       "3        4          70       RL         60.0     9550   Pave   NaN      IR1   \n",
       "4        5          60       RL         84.0    14260   Pave   NaN      IR1   \n",
       "...    ...         ...      ...          ...      ...    ...   ...      ...   \n",
       "1455  1456          60       RL         62.0     7917   Pave   NaN      Reg   \n",
       "1456  1457          20       RL         85.0    13175   Pave   NaN      Reg   \n",
       "1457  1458          70       RL         66.0     9042   Pave   NaN      Reg   \n",
       "1458  1459          20       RL         68.0     9717   Pave   NaN      Reg   \n",
       "1459  1460          20       RL         75.0     9937   Pave   NaN      Reg   \n",
       "\n",
       "     LandContour Utilities LotConfig LandSlope Neighborhood Condition1  \\\n",
       "0            Lvl    AllPub    Inside       Gtl      CollgCr       Norm   \n",
       "1            Lvl    AllPub       FR2       Gtl      Veenker      Feedr   \n",
       "2            Lvl    AllPub    Inside       Gtl      CollgCr       Norm   \n",
       "3            Lvl    AllPub    Corner       Gtl      Crawfor       Norm   \n",
       "4            Lvl    AllPub       FR2       Gtl      NoRidge       Norm   \n",
       "...          ...       ...       ...       ...          ...        ...   \n",
       "1455         Lvl    AllPub    Inside       Gtl      Gilbert       Norm   \n",
       "1456         Lvl    AllPub    Inside       Gtl       NWAmes       Norm   \n",
       "1457         Lvl    AllPub    Inside       Gtl      Crawfor       Norm   \n",
       "1458         Lvl    AllPub    Inside       Gtl        NAmes       Norm   \n",
       "1459         Lvl    AllPub    Inside       Gtl      Edwards       Norm   \n",
       "\n",
       "     Condition2 BldgType HouseStyle  OverallQual  OverallCond  YearBuilt  \\\n",
       "0          Norm     1Fam     2Story            7            5       2003   \n",
       "1          Norm     1Fam     1Story            6            8       1976   \n",
       "2          Norm     1Fam     2Story            7            5       2001   \n",
       "3          Norm     1Fam     2Story            7            5       1915   \n",
       "4          Norm     1Fam     2Story            8            5       2000   \n",
       "...         ...      ...        ...          ...          ...        ...   \n",
       "1455       Norm     1Fam     2Story            6            5       1999   \n",
       "1456       Norm     1Fam     1Story            6            6       1978   \n",
       "1457       Norm     1Fam     2Story            7            9       1941   \n",
       "1458       Norm     1Fam     1Story            5            6       1950   \n",
       "1459       Norm     1Fam     1Story            5            6       1965   \n",
       "\n",
       "      YearRemodAdd RoofStyle RoofMatl Exterior1st Exterior2nd MasVnrType  \\\n",
       "0             2003     Gable  CompShg     VinylSd     VinylSd    BrkFace   \n",
       "1             1976     Gable  CompShg     MetalSd     MetalSd       None   \n",
       "2             2002     Gable  CompShg     VinylSd     VinylSd    BrkFace   \n",
       "3             1970     Gable  CompShg     Wd Sdng     Wd Shng       None   \n",
       "4             2000     Gable  CompShg     VinylSd     VinylSd    BrkFace   \n",
       "...            ...       ...      ...         ...         ...        ...   \n",
       "1455          2000     Gable  CompShg     VinylSd     VinylSd       None   \n",
       "1456          1988     Gable  CompShg     Plywood     Plywood      Stone   \n",
       "1457          2006     Gable  CompShg     CemntBd     CmentBd       None   \n",
       "1458          1996       Hip  CompShg     MetalSd     MetalSd       None   \n",
       "1459          1965     Gable  CompShg     HdBoard     HdBoard       None   \n",
       "\n",
       "      MasVnrArea ExterQual ExterCond Foundation BsmtQual BsmtCond  \\\n",
       "0          196.0        Gd        TA      PConc       Gd       TA   \n",
       "1            0.0        TA        TA     CBlock       Gd       TA   \n",
       "2          162.0        Gd        TA      PConc       Gd       TA   \n",
       "3            0.0        TA        TA     BrkTil       TA       Gd   \n",
       "4          350.0        Gd        TA      PConc       Gd       TA   \n",
       "...          ...       ...       ...        ...      ...      ...   \n",
       "1455         0.0        TA        TA      PConc       Gd       TA   \n",
       "1456       119.0        TA        TA     CBlock       Gd       TA   \n",
       "1457         0.0        Ex        Gd      Stone       TA       Gd   \n",
       "1458         0.0        TA        TA     CBlock       TA       TA   \n",
       "1459         0.0        Gd        TA     CBlock       TA       TA   \n",
       "\n",
       "     BsmtExposure BsmtFinType1  BsmtFinSF1 BsmtFinType2  BsmtFinSF2  \\\n",
       "0              No          GLQ         706          Unf           0   \n",
       "1              Gd          ALQ         978          Unf           0   \n",
       "2              Mn          GLQ         486          Unf           0   \n",
       "3              No          ALQ         216          Unf           0   \n",
       "4              Av          GLQ         655          Unf           0   \n",
       "...           ...          ...         ...          ...         ...   \n",
       "1455           No          Unf           0          Unf           0   \n",
       "1456           No          ALQ         790          Rec         163   \n",
       "1457           No          GLQ         275          Unf           0   \n",
       "1458           Mn          GLQ          49          Rec        1029   \n",
       "1459           No          BLQ         830          LwQ         290   \n",
       "\n",
       "      BsmtUnfSF  TotalBsmtSF Heating HeatingQC CentralAir Electrical  \\\n",
       "0           150          856    GasA        Ex          Y      SBrkr   \n",
       "1           284         1262    GasA        Ex          Y      SBrkr   \n",
       "2           434          920    GasA        Ex          Y      SBrkr   \n",
       "3           540          756    GasA        Gd          Y      SBrkr   \n",
       "4           490         1145    GasA        Ex          Y      SBrkr   \n",
       "...         ...          ...     ...       ...        ...        ...   \n",
       "1455        953          953    GasA        Ex          Y      SBrkr   \n",
       "1456        589         1542    GasA        TA          Y      SBrkr   \n",
       "1457        877         1152    GasA        Ex          Y      SBrkr   \n",
       "1458          0         1078    GasA        Gd          Y      FuseA   \n",
       "1459        136         1256    GasA        Gd          Y      SBrkr   \n",
       "\n",
       "      1stFlrSF  2ndFlrSF  LowQualFinSF  GrLivArea  BsmtFullBath  BsmtHalfBath  \\\n",
       "0          856       854             0       1710             1             0   \n",
       "1         1262         0             0       1262             0             1   \n",
       "2          920       866             0       1786             1             0   \n",
       "3          961       756             0       1717             1             0   \n",
       "4         1145      1053             0       2198             1             0   \n",
       "...        ...       ...           ...        ...           ...           ...   \n",
       "1455       953       694             0       1647             0             0   \n",
       "1456      2073         0             0       2073             1             0   \n",
       "1457      1188      1152             0       2340             0             0   \n",
       "1458      1078         0             0       1078             1             0   \n",
       "1459      1256         0             0       1256             1             0   \n",
       "\n",
       "      FullBath  HalfBath  BedroomAbvGr  KitchenAbvGr KitchenQual  \\\n",
       "0            2         1             3             1          Gd   \n",
       "1            2         0             3             1          TA   \n",
       "2            2         1             3             1          Gd   \n",
       "3            1         0             3             1          Gd   \n",
       "4            2         1             4             1          Gd   \n",
       "...        ...       ...           ...           ...         ...   \n",
       "1455         2         1             3             1          TA   \n",
       "1456         2         0             3             1          TA   \n",
       "1457         2         0             4             1          Gd   \n",
       "1458         1         0             2             1          Gd   \n",
       "1459         1         1             3             1          TA   \n",
       "\n",
       "      TotRmsAbvGrd Functional  Fireplaces FireplaceQu GarageType  GarageYrBlt  \\\n",
       "0                8        Typ           0         NaN     Attchd       2003.0   \n",
       "1                6        Typ           1          TA     Attchd       1976.0   \n",
       "2                6        Typ           1          TA     Attchd       2001.0   \n",
       "3                7        Typ           1          Gd     Detchd       1998.0   \n",
       "4                9        Typ           1          TA     Attchd       2000.0   \n",
       "...            ...        ...         ...         ...        ...          ...   \n",
       "1455             7        Typ           1          TA     Attchd       1999.0   \n",
       "1456             7       Min1           2          TA     Attchd       1978.0   \n",
       "1457             9        Typ           2          Gd     Attchd       1941.0   \n",
       "1458             5        Typ           0         NaN     Attchd       1950.0   \n",
       "1459             6        Typ           0         NaN     Attchd       1965.0   \n",
       "\n",
       "     GarageFinish  GarageCars  GarageArea GarageQual GarageCond PavedDrive  \\\n",
       "0             RFn           2         548         TA         TA          Y   \n",
       "1             RFn           2         460         TA         TA          Y   \n",
       "2             RFn           2         608         TA         TA          Y   \n",
       "3             Unf           3         642         TA         TA          Y   \n",
       "4             RFn           3         836         TA         TA          Y   \n",
       "...           ...         ...         ...        ...        ...        ...   \n",
       "1455          RFn           2         460         TA         TA          Y   \n",
       "1456          Unf           2         500         TA         TA          Y   \n",
       "1457          RFn           1         252         TA         TA          Y   \n",
       "1458          Unf           1         240         TA         TA          Y   \n",
       "1459          Fin           1         276         TA         TA          Y   \n",
       "\n",
       "      WoodDeckSF  OpenPorchSF  EnclosedPorch  3SsnPorch  ScreenPorch  \\\n",
       "0              0           61              0          0            0   \n",
       "1            298            0              0          0            0   \n",
       "2              0           42              0          0            0   \n",
       "3              0           35            272          0            0   \n",
       "4            192           84              0          0            0   \n",
       "...          ...          ...            ...        ...          ...   \n",
       "1455           0           40              0          0            0   \n",
       "1456         349            0              0          0            0   \n",
       "1457           0           60              0          0            0   \n",
       "1458         366            0            112          0            0   \n",
       "1459         736           68              0          0            0   \n",
       "\n",
       "      PoolArea PoolQC  Fence MiscFeature  MiscVal  MoSold  YrSold SaleType  \\\n",
       "0            0    NaN    NaN         NaN        0       2    2008       WD   \n",
       "1            0    NaN    NaN         NaN        0       5    2007       WD   \n",
       "2            0    NaN    NaN         NaN        0       9    2008       WD   \n",
       "3            0    NaN    NaN         NaN        0       2    2006       WD   \n",
       "4            0    NaN    NaN         NaN        0      12    2008       WD   \n",
       "...        ...    ...    ...         ...      ...     ...     ...      ...   \n",
       "1455         0    NaN    NaN         NaN        0       8    2007       WD   \n",
       "1456         0    NaN  MnPrv         NaN        0       2    2010       WD   \n",
       "1457         0    NaN  GdPrv        Shed     2500       5    2010       WD   \n",
       "1458         0    NaN    NaN         NaN        0       4    2010       WD   \n",
       "1459         0    NaN    NaN         NaN        0       6    2008       WD   \n",
       "\n",
       "     SaleCondition  SalePrice  \n",
       "0           Normal     208500  \n",
       "1           Normal     181500  \n",
       "2           Normal     223500  \n",
       "3          Abnorml     140000  \n",
       "4           Normal     250000  \n",
       "...            ...        ...  \n",
       "1455        Normal     175000  \n",
       "1456        Normal     210000  \n",
       "1457        Normal     266500  \n",
       "1458        Normal     142125  \n",
       "1459        Normal     147500  \n",
       "\n",
       "[1460 rows x 81 columns]"
      ]
     },
     "execution_count": 7,
     "metadata": {},
     "output_type": "execute_result"
    }
   ],
   "source": [
    "import pandas as pd\n",
    "pd.options.display.max_columns = 200\n",
    "pd.options.display.max_rows = 200\n",
    "\n",
    "prices_df = pd.read_csv('house-prices/train.csv')\n",
    "prices_df"
   ]
  },
  {
   "cell_type": "code",
   "execution_count": 8,
   "id": "large-jacob",
   "metadata": {},
   "outputs": [],
   "source": [
    "import numpy as np\n",
    "from sklearn.impute import SimpleImputer\n",
    "from sklearn.preprocessing import MinMaxScaler, OneHotEncoder\n",
    "from sklearn.model_selection import train_test_split\n",
    "\n",
    "# Identify input and target columns\n",
    "input_cols, target_col = prices_df.columns[1:-1], prices_df.columns[-1]\n",
    "inputs_df, targets = prices_df[input_cols].copy(), prices_df[target_col].copy()\n",
    "\n",
    "# Identify numeric and categorical columns\n",
    "numeric_cols = prices_df[input_cols].select_dtypes(include=np.number).columns.tolist()\n",
    "categorical_cols = prices_df[input_cols].select_dtypes(include='object').columns.tolist()\n",
    "\n",
    "# Impute and scale numeric columns\n",
    "imputer = SimpleImputer().fit(inputs_df[numeric_cols])\n",
    "inputs_df[numeric_cols] = imputer.transform(inputs_df[numeric_cols])\n",
    "scaler = MinMaxScaler().fit(inputs_df[numeric_cols])\n",
    "inputs_df[numeric_cols] = scaler.transform(inputs_df[numeric_cols])\n",
    "\n",
    "# One-hot encode categorical columns\n",
    "encoder = OneHotEncoder(sparse=False, handle_unknown='ignore').fit(inputs_df[categorical_cols])\n",
    "encoded_cols = list(encoder.get_feature_names(categorical_cols))\n",
    "inputs_df[encoded_cols] = encoder.transform(inputs_df[categorical_cols])\n",
    "\n",
    "# Create training and validation sets\n",
    "train_inputs, val_inputs, train_targets, val_targets = train_test_split(\n",
    "    inputs_df[numeric_cols + encoded_cols], targets, test_size=0.25, random_state=42)"
   ]
  },
  {
   "cell_type": "markdown",
   "id": "located-community",
   "metadata": {},
   "source": [
    "Let's save our work before continuing."
   ]
  },
  {
   "cell_type": "code",
   "execution_count": 9,
   "id": "understood-hostel",
   "metadata": {},
   "outputs": [
    {
     "data": {
      "application/javascript": [
       "window.require && require([\"base/js/namespace\"],function(Jupyter){Jupyter.notebook.save_checkpoint()})"
      ],
      "text/plain": [
       "<IPython.core.display.Javascript object>"
      ]
     },
     "metadata": {},
     "output_type": "display_data"
    },
    {
     "name": "stdout",
     "output_type": "stream",
     "text": [
      "[jovian] Updating notebook \"askarizaidi3/python-random-forests-assignment\" on https://jovian.ai\u001b[0m\n",
      "[jovian] Committed successfully! https://jovian.ai/askarizaidi3/python-random-forests-assignment\u001b[0m\n"
     ]
    },
    {
     "data": {
      "text/plain": [
       "'https://jovian.ai/askarizaidi3/python-random-forests-assignment'"
      ]
     },
     "execution_count": 9,
     "metadata": {},
     "output_type": "execute_result"
    }
   ],
   "source": [
    "jovian.commit()"
   ]
  },
  {
   "cell_type": "markdown",
   "id": "unnecessary-pressing",
   "metadata": {},
   "source": [
    "## Decision Tree\n"
   ]
  },
  {
   "cell_type": "markdown",
   "id": "express-morning",
   "metadata": {},
   "source": [
    "> **QUESTION 1**: Train a decision tree regressor using the training set."
   ]
  },
  {
   "cell_type": "code",
   "execution_count": 10,
   "id": "limited-aaron",
   "metadata": {},
   "outputs": [],
   "source": [
    "from sklearn.tree import DecisionTreeRegressor"
   ]
  },
  {
   "cell_type": "code",
   "execution_count": 13,
   "id": "champion-possibility",
   "metadata": {},
   "outputs": [],
   "source": [
    "# Create the model\n",
    "tree = DecisionTreeRegressor(random_state=42)"
   ]
  },
  {
   "cell_type": "code",
   "execution_count": 14,
   "id": "opposite-laptop",
   "metadata": {},
   "outputs": [
    {
     "data": {
      "text/plain": [
       "DecisionTreeRegressor(random_state=42)"
      ]
     },
     "execution_count": 14,
     "metadata": {},
     "output_type": "execute_result"
    }
   ],
   "source": [
    "# Fit the model to the training data\n",
    "tree.fit(train_inputs,train_targets)"
   ]
  },
  {
   "cell_type": "code",
   "execution_count": null,
   "id": "welsh-jewel",
   "metadata": {},
   "outputs": [],
   "source": []
  },
  {
   "cell_type": "markdown",
   "id": "geological-fusion",
   "metadata": {},
   "source": [
    "Let's save our work before continuing."
   ]
  },
  {
   "cell_type": "code",
   "execution_count": 15,
   "id": "progressive-eagle",
   "metadata": {},
   "outputs": [
    {
     "data": {
      "application/javascript": [
       "window.require && require([\"base/js/namespace\"],function(Jupyter){Jupyter.notebook.save_checkpoint()})"
      ],
      "text/plain": [
       "<IPython.core.display.Javascript object>"
      ]
     },
     "metadata": {},
     "output_type": "display_data"
    },
    {
     "name": "stdout",
     "output_type": "stream",
     "text": [
      "[jovian] Updating notebook \"askarizaidi3/python-random-forests-assignment\" on https://jovian.ai\u001b[0m\n",
      "[jovian] Committed successfully! https://jovian.ai/askarizaidi3/python-random-forests-assignment\u001b[0m\n"
     ]
    },
    {
     "data": {
      "text/plain": [
       "'https://jovian.ai/askarizaidi3/python-random-forests-assignment'"
      ]
     },
     "execution_count": 15,
     "metadata": {},
     "output_type": "execute_result"
    }
   ],
   "source": [
    "jovian.commit()"
   ]
  },
  {
   "cell_type": "markdown",
   "id": "contrary-policy",
   "metadata": {},
   "source": [
    "> **QUESTION 2**: Generate predictions on the training and validation sets using the trained decision tree, and compute the RMSE loss."
   ]
  },
  {
   "cell_type": "code",
   "execution_count": 16,
   "id": "helpful-blake",
   "metadata": {},
   "outputs": [],
   "source": [
    "from sklearn.metrics import mean_squared_error"
   ]
  },
  {
   "cell_type": "code",
   "execution_count": 17,
   "id": "alien-november",
   "metadata": {},
   "outputs": [],
   "source": [
    "tree_train_preds = tree.predict(train_inputs)"
   ]
  },
  {
   "cell_type": "code",
   "execution_count": 18,
   "id": "received-producer",
   "metadata": {},
   "outputs": [],
   "source": [
    "tree_train_rmse = mean_squared_error(train_targets,tree_train_preds)"
   ]
  },
  {
   "cell_type": "code",
   "execution_count": 19,
   "id": "clinical-cameroon",
   "metadata": {},
   "outputs": [],
   "source": [
    "tree_val_preds = tree.predict(val_inputs)"
   ]
  },
  {
   "cell_type": "code",
   "execution_count": 20,
   "id": "sapphire-indie",
   "metadata": {},
   "outputs": [],
   "source": [
    "tree_val_rmse = mean_squared_error(val_targets,tree_val_preds)"
   ]
  },
  {
   "cell_type": "code",
   "execution_count": 21,
   "id": "moving-program",
   "metadata": {},
   "outputs": [
    {
     "name": "stdout",
     "output_type": "stream",
     "text": [
      "Train RMSE: 0.0, Validation RMSE: 1429057134.4054794\n"
     ]
    }
   ],
   "source": [
    "print('Train RMSE: {}, Validation RMSE: {}'.format(tree_train_rmse, tree_val_rmse))"
   ]
  },
  {
   "cell_type": "code",
   "execution_count": null,
   "id": "thirty-first",
   "metadata": {},
   "outputs": [],
   "source": []
  },
  {
   "cell_type": "markdown",
   "id": "handled-dictionary",
   "metadata": {},
   "source": [
    "Let's save our work before continuing."
   ]
  },
  {
   "cell_type": "code",
   "execution_count": 22,
   "id": "certified-trader",
   "metadata": {},
   "outputs": [
    {
     "data": {
      "application/javascript": [
       "window.require && require([\"base/js/namespace\"],function(Jupyter){Jupyter.notebook.save_checkpoint()})"
      ],
      "text/plain": [
       "<IPython.core.display.Javascript object>"
      ]
     },
     "metadata": {},
     "output_type": "display_data"
    },
    {
     "name": "stdout",
     "output_type": "stream",
     "text": [
      "[jovian] Updating notebook \"askarizaidi3/python-random-forests-assignment\" on https://jovian.ai\u001b[0m\n",
      "[jovian] Committed successfully! https://jovian.ai/askarizaidi3/python-random-forests-assignment\u001b[0m\n"
     ]
    },
    {
     "data": {
      "text/plain": [
       "'https://jovian.ai/askarizaidi3/python-random-forests-assignment'"
      ]
     },
     "execution_count": 22,
     "metadata": {},
     "output_type": "execute_result"
    }
   ],
   "source": [
    "jovian.commit()"
   ]
  },
  {
   "cell_type": "markdown",
   "id": "russian-wheat",
   "metadata": {},
   "source": [
    "> **QUESTION 3**: Visualize the decision tree (graphically and textually) and display feature importances as a graph. Limit the maximum depth of graphical visualization to 3 levels."
   ]
  },
  {
   "cell_type": "code",
   "execution_count": 23,
   "id": "moved-hobby",
   "metadata": {},
   "outputs": [],
   "source": [
    "import matplotlib.pyplot as plt\n",
    "from sklearn.tree import plot_tree, export_text\n",
    "import seaborn as sns\n",
    "sns.set_style('darkgrid')\n",
    "%matplotlib inline"
   ]
  },
  {
   "cell_type": "code",
   "execution_count": 24,
   "id": "foreign-mills",
   "metadata": {},
   "outputs": [
    {
     "data": {
      "text/plain": [
       "<Figure size 2160x1080 with 0 Axes>"
      ]
     },
     "metadata": {},
     "output_type": "display_data"
    }
   ],
   "source": [
    "plt.figure(figsize=(30,15))\n",
    "\n",
    "# Visualize the tree graphically using plot_tree\n",
    "from sklearn.tree import plot_tree, export_text"
   ]
  },
  {
   "cell_type": "code",
   "execution_count": 25,
   "id": "asian-immunology",
   "metadata": {},
   "outputs": [],
   "source": [
    "# Visualize the tree textually using export_text\n",
    "tree_text = export_text(tree,max_depth=10, feature_names=list((train_inputs.columns)))"
   ]
  },
  {
   "cell_type": "code",
   "execution_count": 26,
   "id": "baking-knife",
   "metadata": {},
   "outputs": [
    {
     "name": "stdout",
     "output_type": "stream",
     "text": [
      "|--- OverallQual <= 0.72\n",
      "|   |--- OverallQual <= 0.61\n",
      "|   |   |--- GrLivArea <= 0.20\n",
      "|   |   |   |--- TotalBsmtSF <= 0.16\n",
      "|   |   |   |   |--- OverallQual <= 0.39\n",
      "|   |   |   |   |   |--- GarageCond_TA <= 0.50\n",
      "|   |   |   |   |   |   |--- LotArea <= 0.04\n",
      "|   |   |   |   |   |   |   |--- CentralAir_Y <= 0.50\n",
      "|   |   |   |   |   |   |   |   |--- YearBuilt <= 0.54\n",
      "|   |   |   |   |   |   |   |   |   |--- SaleCondition_Abnorml <= 0.50\n",
      "|   |   |   |   |   |   |   |   |   |   |--- Neighborhood_BrkSide <= 0.50\n",
      "|   |   |   |   |   |   |   |   |   |   |   |--- truncated branch of depth 3\n",
      "|   |   |   |   |   |   |   |   |   |   |--- Neighborhood_BrkSide >  0.50\n",
      "|   |   |   |   |   |   |   |   |   |   |   |--- value: [39300.00]\n",
      "|   |   |   |   |   |   |   |   |   |--- SaleCondition_Abnorml >  0.50\n",
      "|   |   |   |   |   |   |   |   |   |   |--- 2ndFlrSF <= 0.09\n",
      "|   |   |   |   |   |   |   |   |   |   |   |--- value: [34900.00]\n",
      "|   |   |   |   |   |   |   |   |   |   |--- 2ndFlrSF >  0.09\n",
      "|   |   |   |   |   |   |   |   |   |   |   |--- value: [37900.00]\n",
      "|   |   |   |   |   |   |   |   |--- YearBuilt >  0.54\n",
      "|   |   |   |   |   |   |   |   |   |--- Condition1_Norm <= 0.50\n",
      "|   |   |   |   |   |   |   |   |   |   |--- value: [72500.00]\n",
      "|   |   |   |   |   |   |   |   |   |--- Condition1_Norm >  0.50\n",
      "|   |   |   |   |   |   |   |   |   |   |--- YrSold <= 0.25\n",
      "|   |   |   |   |   |   |   |   |   |   |   |--- value: [80500.00]\n",
      "|   |   |   |   |   |   |   |   |   |   |--- YrSold >  0.25\n",
      "|   |   |   |   |   |   |   |   |   |   |   |--- value: [82000.00]\n",
      "|   |   |   |   |   |   |   |--- CentralAir_Y >  0.50\n",
      "|   |   |   |   |   |   |   |   |--- Functional_Maj2 <= 0.50\n",
      "|   |   |   |   |   |   |   |   |   |--- Fireplaces <= 0.17\n",
      "|   |   |   |   |   |   |   |   |   |   |--- LotArea <= 0.03\n",
      "|   |   |   |   |   |   |   |   |   |   |   |--- truncated branch of depth 4\n",
      "|   |   |   |   |   |   |   |   |   |   |--- LotArea >  0.03\n",
      "|   |   |   |   |   |   |   |   |   |   |   |--- truncated branch of\n"
     ]
    }
   ],
   "source": [
    "# Display the first few lines\n",
    "print(tree_text[:2000])"
   ]
  },
  {
   "cell_type": "code",
   "execution_count": 27,
   "id": "typical-birth",
   "metadata": {},
   "outputs": [],
   "source": [
    "# Check feature importance\n",
    "tree_importances = tree.feature_importances_"
   ]
  },
  {
   "cell_type": "code",
   "execution_count": 28,
   "id": "entertaining-reply",
   "metadata": {},
   "outputs": [],
   "source": [
    "tree_importance_df = pd.DataFrame({\n",
    "    'feature': train_inputs.columns,\n",
    "    'importance': tree_importances\n",
    "}).sort_values('importance', ascending=False)"
   ]
  },
  {
   "cell_type": "code",
   "execution_count": 29,
   "id": "limiting-ridge",
   "metadata": {},
   "outputs": [
    {
     "data": {
      "text/html": [
       "<div>\n",
       "<style scoped>\n",
       "    .dataframe tbody tr th:only-of-type {\n",
       "        vertical-align: middle;\n",
       "    }\n",
       "\n",
       "    .dataframe tbody tr th {\n",
       "        vertical-align: top;\n",
       "    }\n",
       "\n",
       "    .dataframe thead th {\n",
       "        text-align: right;\n",
       "    }\n",
       "</style>\n",
       "<table border=\"1\" class=\"dataframe\">\n",
       "  <thead>\n",
       "    <tr style=\"text-align: right;\">\n",
       "      <th></th>\n",
       "      <th>feature</th>\n",
       "      <th>importance</th>\n",
       "    </tr>\n",
       "  </thead>\n",
       "  <tbody>\n",
       "    <tr>\n",
       "      <th>3</th>\n",
       "      <td>OverallQual</td>\n",
       "      <td>0.632537</td>\n",
       "    </tr>\n",
       "    <tr>\n",
       "      <th>15</th>\n",
       "      <td>GrLivArea</td>\n",
       "      <td>0.104334</td>\n",
       "    </tr>\n",
       "    <tr>\n",
       "      <th>13</th>\n",
       "      <td>2ndFlrSF</td>\n",
       "      <td>0.031896</td>\n",
       "    </tr>\n",
       "    <tr>\n",
       "      <th>11</th>\n",
       "      <td>TotalBsmtSF</td>\n",
       "      <td>0.028504</td>\n",
       "    </tr>\n",
       "    <tr>\n",
       "      <th>12</th>\n",
       "      <td>1stFlrSF</td>\n",
       "      <td>0.026730</td>\n",
       "    </tr>\n",
       "    <tr>\n",
       "      <th>...</th>\n",
       "      <td>...</td>\n",
       "      <td>...</td>\n",
       "    </tr>\n",
       "    <tr>\n",
       "      <th>104</th>\n",
       "      <td>Condition2_RRAn</td>\n",
       "      <td>0.000000</td>\n",
       "    </tr>\n",
       "    <tr>\n",
       "      <th>103</th>\n",
       "      <td>Condition2_RRAe</td>\n",
       "      <td>0.000000</td>\n",
       "    </tr>\n",
       "    <tr>\n",
       "      <th>102</th>\n",
       "      <td>Condition2_PosN</td>\n",
       "      <td>0.000000</td>\n",
       "    </tr>\n",
       "    <tr>\n",
       "      <th>212</th>\n",
       "      <td>BsmtFinType2_nan</td>\n",
       "      <td>0.000000</td>\n",
       "    </tr>\n",
       "    <tr>\n",
       "      <th>152</th>\n",
       "      <td>Exterior2nd_CBlock</td>\n",
       "      <td>0.000000</td>\n",
       "    </tr>\n",
       "  </tbody>\n",
       "</table>\n",
       "<p>304 rows × 2 columns</p>\n",
       "</div>"
      ],
      "text/plain": [
       "                feature  importance\n",
       "3           OverallQual    0.632537\n",
       "15            GrLivArea    0.104334\n",
       "13             2ndFlrSF    0.031896\n",
       "11          TotalBsmtSF    0.028504\n",
       "12             1stFlrSF    0.026730\n",
       "..                  ...         ...\n",
       "104     Condition2_RRAn    0.000000\n",
       "103     Condition2_RRAe    0.000000\n",
       "102     Condition2_PosN    0.000000\n",
       "212    BsmtFinType2_nan    0.000000\n",
       "152  Exterior2nd_CBlock    0.000000\n",
       "\n",
       "[304 rows x 2 columns]"
      ]
     },
     "execution_count": 29,
     "metadata": {},
     "output_type": "execute_result"
    }
   ],
   "source": [
    "tree_importance_df"
   ]
  },
  {
   "cell_type": "code",
   "execution_count": 30,
   "id": "amended-spain",
   "metadata": {},
   "outputs": [
    {
     "data": {
      "image/png": "[encoded data removed]",
      "text/plain": [
       "<Figure size 432x288 with 1 Axes>"
      ]
     },
     "metadata": {
      "needs_background": "light"
     },
     "output_type": "display_data"
    }
   ],
   "source": [
    "plt.title('Decision Tree Feature Importance')\n",
    "sns.barplot(data=tree_importance_df.head(10), x='importance', y='feature');"
   ]
  },
  {
   "cell_type": "code",
   "execution_count": null,
   "id": "personal-alert",
   "metadata": {},
   "outputs": [],
   "source": []
  },
  {
   "cell_type": "markdown",
   "id": "monthly-crazy",
   "metadata": {},
   "source": [
    "Let's save our work before continuing."
   ]
  },
  {
   "cell_type": "code",
   "execution_count": null,
   "id": "statistical-material",
   "metadata": {},
   "outputs": [],
   "source": [
    "jovian.commit()"
   ]
  },
  {
   "cell_type": "markdown",
   "id": "grand-option",
   "metadata": {},
   "source": [
    "## Random Forests\n"
   ]
  },
  {
   "cell_type": "markdown",
   "id": "imperial-porcelain",
   "metadata": {},
   "source": [
    "> **QUESTION 4**: Train a random forest regressor using the training set."
   ]
  },
  {
   "cell_type": "code",
   "execution_count": 32,
   "id": "given-header",
   "metadata": {},
   "outputs": [],
   "source": [
    "from sklearn.ensemble import RandomForestRegressor"
   ]
  },
  {
   "cell_type": "code",
   "execution_count": 33,
   "id": "virtual-mortgage",
   "metadata": {},
   "outputs": [],
   "source": [
    "# Create the model\n",
    "rf1 = RandomForestRegressor(n_jobs=-1,random_state=42)"
   ]
  },
  {
   "cell_type": "code",
   "execution_count": 34,
   "id": "parental-mistress",
   "metadata": {},
   "outputs": [
    {
     "data": {
      "text/plain": [
       "RandomForestRegressor(n_jobs=-1, random_state=42)"
      ]
     },
     "execution_count": 34,
     "metadata": {},
     "output_type": "execute_result"
    }
   ],
   "source": [
    "# Fit the model\n",
    "rf1.fit(train_inputs,train_targets)"
   ]
  },
  {
   "cell_type": "code",
   "execution_count": null,
   "id": "metric-application",
   "metadata": {},
   "outputs": [],
   "source": []
  },
  {
   "cell_type": "markdown",
   "id": "instant-ranking",
   "metadata": {},
   "source": [
    "Let's save our work before continuing."
   ]
  },
  {
   "cell_type": "code",
   "execution_count": 35,
   "id": "modular-tyler",
   "metadata": {},
   "outputs": [
    {
     "data": {
      "application/javascript": [
       "window.require && require([\"base/js/namespace\"],function(Jupyter){Jupyter.notebook.save_checkpoint()})"
      ],
      "text/plain": [
       "<IPython.core.display.Javascript object>"
      ]
     },
     "metadata": {},
     "output_type": "display_data"
    },
    {
     "name": "stdout",
     "output_type": "stream",
     "text": [
      "[jovian] Updating notebook \"askarizaidi3/python-random-forests-assignment\" on https://jovian.ai\u001b[0m\n",
      "[jovian] Committed successfully! https://jovian.ai/askarizaidi3/python-random-forests-assignment\u001b[0m\n"
     ]
    },
    {
     "data": {
      "text/plain": [
       "'https://jovian.ai/askarizaidi3/python-random-forests-assignment'"
      ]
     },
     "execution_count": 35,
     "metadata": {},
     "output_type": "execute_result"
    }
   ],
   "source": [
    "jovian.commit()"
   ]
  },
  {
   "cell_type": "markdown",
   "id": "proved-batman",
   "metadata": {},
   "source": [
    "> **QUESTION 5**: Make predictions using the random forest regressor."
   ]
  },
  {
   "cell_type": "code",
   "execution_count": 36,
   "id": "removable-driving",
   "metadata": {},
   "outputs": [],
   "source": [
    "rf1_train_preds = rf1.predict(train_inputs)"
   ]
  },
  {
   "cell_type": "code",
   "execution_count": 37,
   "id": "mature-ceremony",
   "metadata": {},
   "outputs": [],
   "source": [
    "rf1_train_rmse = mean_squared_error(train_targets,rf1_train_preds)"
   ]
  },
  {
   "cell_type": "code",
   "execution_count": 38,
   "id": "unable-racing",
   "metadata": {},
   "outputs": [],
   "source": [
    "rf1_val_preds = rf1.predict(val_inputs)"
   ]
  },
  {
   "cell_type": "code",
   "execution_count": 39,
   "id": "narrow-chaos",
   "metadata": {},
   "outputs": [],
   "source": [
    "rf1_val_rmse = mean_squared_error(val_targets,rf1_val_preds)"
   ]
  },
  {
   "cell_type": "code",
   "execution_count": 40,
   "id": "norman-brooks",
   "metadata": {},
   "outputs": [
    {
     "name": "stdout",
     "output_type": "stream",
     "text": [
      "Train RMSE: 140762048.72081444, Validation RMSE: 774511050.5034367\n"
     ]
    }
   ],
   "source": [
    "print('Train RMSE: {}, Validation RMSE: {}'.format(rf1_train_rmse, rf1_val_rmse))"
   ]
  },
  {
   "cell_type": "code",
   "execution_count": null,
   "id": "apparent-square",
   "metadata": {},
   "outputs": [],
   "source": []
  },
  {
   "cell_type": "markdown",
   "id": "further-camera",
   "metadata": {},
   "source": [
    "Let's save our work before continuing."
   ]
  },
  {
   "cell_type": "code",
   "execution_count": 41,
   "id": "worldwide-exhibit",
   "metadata": {},
   "outputs": [
    {
     "data": {
      "application/javascript": [
       "window.require && require([\"base/js/namespace\"],function(Jupyter){Jupyter.notebook.save_checkpoint()})"
      ],
      "text/plain": [
       "<IPython.core.display.Javascript object>"
      ]
     },
     "metadata": {},
     "output_type": "display_data"
    },
    {
     "name": "stdout",
     "output_type": "stream",
     "text": [
      "[jovian] Updating notebook \"askarizaidi3/python-random-forests-assignment\" on https://jovian.ai\u001b[0m\n",
      "[jovian] Committed successfully! https://jovian.ai/askarizaidi3/python-random-forests-assignment\u001b[0m\n"
     ]
    },
    {
     "data": {
      "text/plain": [
       "'https://jovian.ai/askarizaidi3/python-random-forests-assignment'"
      ]
     },
     "execution_count": 41,
     "metadata": {},
     "output_type": "execute_result"
    }
   ],
   "source": [
    "jovian.commit()"
   ]
  },
  {
   "cell_type": "markdown",
   "id": "confident-soundtrack",
   "metadata": {},
   "source": [
    "## Hyperparameter Tuning\n",
    "\n",
    "Let us now tune the hyperparameters of our model. You can find the hyperparameters for `RandomForestRegressor` here: https://scikit-learn.org/stable/modules/generated/sklearn.ensemble.RandomForestRegressor.html\n",
    "\n",
    "<img src=\"https://i.imgur.com/EJCrSZw.png\" width=\"480\">\n",
    "\n",
    "Hyperparameters are use"
   ]
  },
  {
   "cell_type": "markdown",
   "id": "narrative-makeup",
   "metadata": {},
   "source": [
    "Let's define a helper function `test_params` which can test the given value of one or more hyperparameters."
   ]
  },
  {
   "cell_type": "code",
   "execution_count": 42,
   "id": "administrative-palestine",
   "metadata": {},
   "outputs": [],
   "source": [
    "def test_params(**params):\n",
    "    model = RandomForestRegressor(random_state=42, n_jobs=-1, **params).fit(train_inputs, train_targets)\n",
    "    train_rmse = mean_squared_error(model.predict(train_inputs), train_targets, squared=False)\n",
    "    val_rmse = mean_squared_error(model.predict(val_inputs), val_targets, squared=False)\n",
    "    return train_rmse, val_rmse"
   ]
  },
  {
   "cell_type": "markdown",
   "id": "legal-commander",
   "metadata": {},
   "source": [
    "It can be used as follows:"
   ]
  },
  {
   "cell_type": "code",
   "execution_count": 43,
   "id": "banned-society",
   "metadata": {},
   "outputs": [
    {
     "data": {
      "text/plain": [
       "(13633.098055136325, 28910.236967019428)"
      ]
     },
     "execution_count": 43,
     "metadata": {},
     "output_type": "execute_result"
    }
   ],
   "source": [
    "test_params(n_estimators=10, max_depth=10)"
   ]
  },
  {
   "cell_type": "code",
   "execution_count": 44,
   "id": "outstanding-bradford",
   "metadata": {},
   "outputs": [
    {
     "data": {
      "text/plain": [
       "(21543.20518942555, 29770.351837075785)"
      ]
     },
     "execution_count": 44,
     "metadata": {},
     "output_type": "execute_result"
    }
   ],
   "source": [
    "test_params(n_estimators=10, max_depth=10, min_samples_leaf=4, max_features=0.4)"
   ]
  },
  {
   "cell_type": "markdown",
   "id": "civilian-diary",
   "metadata": {},
   "source": [
    "Let's also define a helper function to test and plot different values of a single parameter."
   ]
  },
  {
   "cell_type": "code",
   "execution_count": 45,
   "id": "australian-removal",
   "metadata": {},
   "outputs": [],
   "source": [
    "def test_param_and_plot(param_name, param_values):\n",
    "    train_errors, val_errors = [], [] \n",
    "    for value in param_values:\n",
    "        params = {param_name: value}\n",
    "        train_rmse, val_rmse = test_params(**params)\n",
    "        train_errors.append(train_rmse)\n",
    "        val_errors.append(val_rmse)\n",
    "    plt.figure(figsize=(10,6))\n",
    "    plt.title('Overfitting curve: ' + param_name)\n",
    "    plt.plot(param_values, train_errors, 'b-o')\n",
    "    plt.plot(param_values, val_errors, 'r-o')\n",
    "    plt.xlabel(param_name)\n",
    "    plt.ylabel('RMSE')\n",
    "    plt.legend(['Training', 'Validation'])"
   ]
  },
  {
   "cell_type": "code",
   "execution_count": 46,
   "id": "strategic-webmaster",
   "metadata": {},
   "outputs": [
    {
     "data": {
      "image/png": "[encoded data removed]",
      "text/plain": [
       "<Figure size 720x432 with 1 Axes>"
      ]
     },
     "metadata": {
      "needs_background": "light"
     },
     "output_type": "display_data"
    }
   ],
   "source": [
    "test_param_and_plot('max_depth', [5, 10, 15, 20, 25, 30, 35])"
   ]
  },
  {
   "cell_type": "markdown",
   "id": "reasonable-version",
   "metadata": {},
   "source": [
    "From the above graph, it appears that the best value for `max_depth` is around 20, beyond which the model starts to overfit."
   ]
  },
  {
   "cell_type": "code",
   "execution_count": null,
   "id": "individual-discretion",
   "metadata": {},
   "outputs": [],
   "source": []
  },
  {
   "cell_type": "markdown",
   "id": "specific-stadium",
   "metadata": {},
   "source": [
    "Let's save our work before continuing."
   ]
  },
  {
   "cell_type": "code",
   "execution_count": 47,
   "id": "choice-confidentiality",
   "metadata": {},
   "outputs": [
    {
     "data": {
      "application/javascript": [
       "window.require && require([\"base/js/namespace\"],function(Jupyter){Jupyter.notebook.save_checkpoint()})"
      ],
      "text/plain": [
       "<IPython.core.display.Javascript object>"
      ]
     },
     "metadata": {},
     "output_type": "display_data"
    },
    {
     "name": "stdout",
     "output_type": "stream",
     "text": [
      "[jovian] Updating notebook \"askarizaidi3/python-random-forests-assignment\" on https://jovian.ai\u001b[0m\n",
      "[jovian] Committed successfully! https://jovian.ai/askarizaidi3/python-random-forests-assignment\u001b[0m\n"
     ]
    },
    {
     "data": {
      "text/plain": [
       "'https://jovian.ai/askarizaidi3/python-random-forests-assignment'"
      ]
     },
     "execution_count": 47,
     "metadata": {},
     "output_type": "execute_result"
    }
   ],
   "source": [
    "jovian.commit()"
   ]
  },
  {
   "cell_type": "markdown",
   "id": "bottom-configuration",
   "metadata": {},
   "source": [
    "> **QUESTION 6**: Use the `test_params` and `test_param_and_plot` functions to experiment with different values of the  hyperparmeters like `n_estimators`, `max_depth`, `min_samples_split`, `min_samples_leaf`, `min_weight_fraction_leaf`, `max_features`, `max_leaf_nodes`, `min_impurity_decrease`, `min_impurity_split` etc. You can learn more about the hyperparameters here: https://scikit-learn.org/stable/modules/generated/sklearn.ensemble.RandomForestRegressor.html"
   ]
  },
  {
   "cell_type": "code",
   "execution_count": 48,
   "id": "guided-costs",
   "metadata": {},
   "outputs": [
    {
     "data": {
      "image/png": "[encoded data removed]",
      "text/plain": [
       "<Figure size 720x432 with 1 Axes>"
      ]
     },
     "metadata": {
      "needs_background": "light"
     },
     "output_type": "display_data"
    }
   ],
   "source": [
    "test_param_and_plot('n_estimators', range(100,160,20))"
   ]
  },
  {
   "cell_type": "code",
   "execution_count": 49,
   "id": "extraordinary-timer",
   "metadata": {},
   "outputs": [
    {
     "data": {
      "image/png": "[encoded data removed]",
      "text/plain": [
       "<Figure size 720x432 with 1 Axes>"
      ]
     },
     "metadata": {
      "needs_background": "light"
     },
     "output_type": "display_data"
    }
   ],
   "source": [
    "test_param_and_plot('max_leaf_nodes', range(170,200,10))"
   ]
  },
  {
   "cell_type": "code",
   "execution_count": 50,
   "id": "legislative-collins",
   "metadata": {},
   "outputs": [
    {
     "data": {
      "image/png": "[encoded data removed]",
      "text/plain": [
       "<Figure size 720x432 with 1 Axes>"
      ]
     },
     "metadata": {
      "needs_background": "light"
     },
     "output_type": "display_data"
    }
   ],
   "source": [
    "test_param_and_plot('min_samples_split', range(3,10))"
   ]
  },
  {
   "cell_type": "code",
   "execution_count": 51,
   "id": "supposed-engine",
   "metadata": {},
   "outputs": [
    {
     "data": {
      "image/png": "[encoded data removed]",
      "text/plain": [
       "<Figure size 720x432 with 1 Axes>"
      ]
     },
     "metadata": {
      "needs_background": "light"
     },
     "output_type": "display_data"
    }
   ],
   "source": [
    "test_param_and_plot('min_samples_leaf', range(1,10))"
   ]
  },
  {
   "cell_type": "markdown",
   "id": "heard-creator",
   "metadata": {},
   "source": [
    "Let's save our work before continuing."
   ]
  },
  {
   "cell_type": "code",
   "execution_count": 52,
   "id": "proper-apollo",
   "metadata": {},
   "outputs": [
    {
     "data": {
      "application/javascript": [
       "window.require && require([\"base/js/namespace\"],function(Jupyter){Jupyter.notebook.save_checkpoint()})"
      ],
      "text/plain": [
       "<IPython.core.display.Javascript object>"
      ]
     },
     "metadata": {},
     "output_type": "display_data"
    },
    {
     "name": "stdout",
     "output_type": "stream",
     "text": [
      "[jovian] Updating notebook \"askarizaidi3/python-random-forests-assignment\" on https://jovian.ai\u001b[0m\n",
      "[jovian] Committed successfully! https://jovian.ai/askarizaidi3/python-random-forests-assignment\u001b[0m\n"
     ]
    },
    {
     "data": {
      "text/plain": [
       "'https://jovian.ai/askarizaidi3/python-random-forests-assignment'"
      ]
     },
     "execution_count": 52,
     "metadata": {},
     "output_type": "execute_result"
    }
   ],
   "source": [
    "jovian.commit()"
   ]
  },
  {
   "cell_type": "markdown",
   "id": "swiss-charger",
   "metadata": {},
   "source": [
    "## Training the Best Model\n",
    "\n",
    "> **QUESTION 7**: Train a random forest regressor model with your best hyperparameters to minimize the validation loss."
   ]
  },
  {
   "cell_type": "code",
   "execution_count": 53,
   "id": "visible-seven",
   "metadata": {},
   "outputs": [],
   "source": [
    "# Create the model with custom hyperparameters\n",
    "rf2 = RandomForestRegressor(max_depth=20,n_estimators=120,max_leaf_nodes=180,min_samples_split=7,min_samples_leaf=2,n_jobs=-1,random_state=42)"
   ]
  },
  {
   "cell_type": "code",
   "execution_count": 54,
   "id": "sonic-nickname",
   "metadata": {},
   "outputs": [
    {
     "data": {
      "text/plain": [
       "RandomForestRegressor(max_depth=20, max_leaf_nodes=180, min_samples_leaf=2,\n",
       "                      min_samples_split=7, n_estimators=120, n_jobs=-1,\n",
       "                      random_state=42)"
      ]
     },
     "execution_count": 54,
     "metadata": {},
     "output_type": "execute_result"
    }
   ],
   "source": [
    "# Train the model\n",
    "rf2.fit(train_inputs,train_targets)"
   ]
  },
  {
   "cell_type": "code",
   "execution_count": null,
   "id": "collectible-briefs",
   "metadata": {},
   "outputs": [],
   "source": []
  },
  {
   "cell_type": "markdown",
   "id": "prompt-lawrence",
   "metadata": {},
   "source": [
    "Let's save our work before continuing."
   ]
  },
  {
   "cell_type": "code",
   "execution_count": 55,
   "id": "oriental-essex",
   "metadata": {},
   "outputs": [
    {
     "data": {
      "application/javascript": [
       "window.require && require([\"base/js/namespace\"],function(Jupyter){Jupyter.notebook.save_checkpoint()})"
      ],
      "text/plain": [
       "<IPython.core.display.Javascript object>"
      ]
     },
     "metadata": {},
     "output_type": "display_data"
    },
    {
     "name": "stdout",
     "output_type": "stream",
     "text": [
      "[jovian] Updating notebook \"askarizaidi3/python-random-forests-assignment\" on https://jovian.ai\u001b[0m\n",
      "[jovian] Committed successfully! https://jovian.ai/askarizaidi3/python-random-forests-assignment\u001b[0m\n"
     ]
    },
    {
     "data": {
      "text/plain": [
       "'https://jovian.ai/askarizaidi3/python-random-forests-assignment'"
      ]
     },
     "execution_count": 55,
     "metadata": {},
     "output_type": "execute_result"
    }
   ],
   "source": [
    "jovian.commit()"
   ]
  },
  {
   "cell_type": "markdown",
   "id": "afraid-chamber",
   "metadata": {},
   "source": [
    "> **QUESTION 8**: Make predictions and evaluate your final model. If you're unhappy with the results, modify the hyperparameters above and try again."
   ]
  },
  {
   "cell_type": "code",
   "execution_count": 56,
   "id": "latest-constraint",
   "metadata": {},
   "outputs": [],
   "source": [
    "rf2_train_preds = rf2.predict(train_inputs)"
   ]
  },
  {
   "cell_type": "code",
   "execution_count": 57,
   "id": "expected-musician",
   "metadata": {},
   "outputs": [],
   "source": [
    "rf2_train_rmse = mean_squared_error(train_targets,rf2_train_preds)"
   ]
  },
  {
   "cell_type": "code",
   "execution_count": 58,
   "id": "equivalent-brand",
   "metadata": {},
   "outputs": [],
   "source": [
    "rf2_val_preds = rf2.predict(val_inputs)"
   ]
  },
  {
   "cell_type": "code",
   "execution_count": 59,
   "id": "sacred-dealer",
   "metadata": {},
   "outputs": [],
   "source": [
    "rf2_val_rmse = mean_squared_error(val_targets,rf2_val_preds)"
   ]
  },
  {
   "cell_type": "code",
   "execution_count": 60,
   "id": "relevant-musician",
   "metadata": {},
   "outputs": [
    {
     "name": "stdout",
     "output_type": "stream",
     "text": [
      "Train RMSE: 241829976.83645916, Validation RMSE: 755022126.4727952\n"
     ]
    }
   ],
   "source": [
    "print('Train RMSE: {}, Validation RMSE: {}'.format(rf2_train_rmse, rf2_val_rmse))"
   ]
  },
  {
   "cell_type": "code",
   "execution_count": null,
   "id": "average-player",
   "metadata": {},
   "outputs": [],
   "source": []
  },
  {
   "cell_type": "markdown",
   "id": "danish-filename",
   "metadata": {},
   "source": [
    "Let's also view and plot the feature importances."
   ]
  },
  {
   "cell_type": "code",
   "execution_count": 61,
   "id": "measured-circle",
   "metadata": {},
   "outputs": [],
   "source": [
    "rf2_importance_df = pd.DataFrame({\n",
    "    'feature': train_inputs.columns,\n",
    "    'importance': rf2.feature_importances_\n",
    "}).sort_values('importance', ascending=False)"
   ]
  },
  {
   "cell_type": "code",
   "execution_count": 62,
   "id": "insured-thickness",
   "metadata": {},
   "outputs": [
    {
     "data": {
      "text/html": [
       "<div>\n",
       "<style scoped>\n",
       "    .dataframe tbody tr th:only-of-type {\n",
       "        vertical-align: middle;\n",
       "    }\n",
       "\n",
       "    .dataframe tbody tr th {\n",
       "        vertical-align: top;\n",
       "    }\n",
       "\n",
       "    .dataframe thead th {\n",
       "        text-align: right;\n",
       "    }\n",
       "</style>\n",
       "<table border=\"1\" class=\"dataframe\">\n",
       "  <thead>\n",
       "    <tr style=\"text-align: right;\">\n",
       "      <th></th>\n",
       "      <th>feature</th>\n",
       "      <th>importance</th>\n",
       "    </tr>\n",
       "  </thead>\n",
       "  <tbody>\n",
       "    <tr>\n",
       "      <th>3</th>\n",
       "      <td>OverallQual</td>\n",
       "      <td>0.568928</td>\n",
       "    </tr>\n",
       "    <tr>\n",
       "      <th>15</th>\n",
       "      <td>GrLivArea</td>\n",
       "      <td>0.125473</td>\n",
       "    </tr>\n",
       "    <tr>\n",
       "      <th>11</th>\n",
       "      <td>TotalBsmtSF</td>\n",
       "      <td>0.036218</td>\n",
       "    </tr>\n",
       "    <tr>\n",
       "      <th>13</th>\n",
       "      <td>2ndFlrSF</td>\n",
       "      <td>0.028672</td>\n",
       "    </tr>\n",
       "    <tr>\n",
       "      <th>8</th>\n",
       "      <td>BsmtFinSF1</td>\n",
       "      <td>0.026849</td>\n",
       "    </tr>\n",
       "    <tr>\n",
       "      <th>...</th>\n",
       "      <td>...</td>\n",
       "      <td>...</td>\n",
       "    </tr>\n",
       "    <tr>\n",
       "      <th>64</th>\n",
       "      <td>Neighborhood_Blmngtn</td>\n",
       "      <td>0.000000</td>\n",
       "    </tr>\n",
       "    <tr>\n",
       "      <th>173</th>\n",
       "      <td>ExterCond_Ex</td>\n",
       "      <td>0.000000</td>\n",
       "    </tr>\n",
       "    <tr>\n",
       "      <th>65</th>\n",
       "      <td>Neighborhood_Blueste</td>\n",
       "      <td>0.000000</td>\n",
       "    </tr>\n",
       "    <tr>\n",
       "      <th>168</th>\n",
       "      <td>MasVnrType_nan</td>\n",
       "      <td>0.000000</td>\n",
       "    </tr>\n",
       "    <tr>\n",
       "      <th>152</th>\n",
       "      <td>Exterior2nd_CBlock</td>\n",
       "      <td>0.000000</td>\n",
       "    </tr>\n",
       "  </tbody>\n",
       "</table>\n",
       "<p>304 rows × 2 columns</p>\n",
       "</div>"
      ],
      "text/plain": [
       "                  feature  importance\n",
       "3             OverallQual    0.568928\n",
       "15              GrLivArea    0.125473\n",
       "11            TotalBsmtSF    0.036218\n",
       "13               2ndFlrSF    0.028672\n",
       "8              BsmtFinSF1    0.026849\n",
       "..                    ...         ...\n",
       "64   Neighborhood_Blmngtn    0.000000\n",
       "173          ExterCond_Ex    0.000000\n",
       "65   Neighborhood_Blueste    0.000000\n",
       "168        MasVnrType_nan    0.000000\n",
       "152    Exterior2nd_CBlock    0.000000\n",
       "\n",
       "[304 rows x 2 columns]"
      ]
     },
     "execution_count": 62,
     "metadata": {},
     "output_type": "execute_result"
    }
   ],
   "source": [
    "rf2_importance_df"
   ]
  },
  {
   "cell_type": "code",
   "execution_count": 63,
   "id": "standard-explanation",
   "metadata": {},
   "outputs": [
    {
     "data": {
      "text/plain": [
       "<AxesSubplot:xlabel='importance', ylabel='feature'>"
      ]
     },
     "execution_count": 63,
     "metadata": {},
     "output_type": "execute_result"
    },
    {
     "data": {
      "image/png": "[encoded data removed]",
      "text/plain": [
       "<Figure size 432x288 with 1 Axes>"
      ]
     },
     "metadata": {
      "needs_background": "light"
     },
     "output_type": "display_data"
    }
   ],
   "source": [
    "sns.barplot(data=rf2_importance_df, x='importance', y='feature')"
   ]
  },
  {
   "cell_type": "code",
   "execution_count": null,
   "id": "junior-xerox",
   "metadata": {},
   "outputs": [],
   "source": []
  },
  {
   "cell_type": "markdown",
   "id": "soviet-springer",
   "metadata": {},
   "source": [
    "Let's save our work before continuing."
   ]
  },
  {
   "cell_type": "code",
   "execution_count": 64,
   "id": "tested-majority",
   "metadata": {},
   "outputs": [
    {
     "data": {
      "application/javascript": [
       "window.require && require([\"base/js/namespace\"],function(Jupyter){Jupyter.notebook.save_checkpoint()})"
      ],
      "text/plain": [
       "<IPython.core.display.Javascript object>"
      ]
     },
     "metadata": {},
     "output_type": "display_data"
    },
    {
     "name": "stdout",
     "output_type": "stream",
     "text": [
      "[jovian] Updating notebook \"askarizaidi3/python-random-forests-assignment\" on https://jovian.ai\u001b[0m\n",
      "[jovian] Committed successfully! https://jovian.ai/askarizaidi3/python-random-forests-assignment\u001b[0m\n"
     ]
    },
    {
     "data": {
      "text/plain": [
       "'https://jovian.ai/askarizaidi3/python-random-forests-assignment'"
      ]
     },
     "execution_count": 64,
     "metadata": {},
     "output_type": "execute_result"
    }
   ],
   "source": [
    "jovian.commit()"
   ]
  },
  {
   "cell_type": "markdown",
   "id": "sharp-brush",
   "metadata": {},
   "source": [
    "## Make a Submission\n",
    "\n",
    "To make a submission, just execute the following cell:"
   ]
  },
  {
   "cell_type": "code",
   "execution_count": 65,
   "id": "sunset-archive",
   "metadata": {},
   "outputs": [
    {
     "data": {
      "application/javascript": [
       "window.require && require([\"base/js/namespace\"],function(Jupyter){Jupyter.notebook.save_checkpoint()})"
      ],
      "text/plain": [
       "<IPython.core.display.Javascript object>"
      ]
     },
     "metadata": {},
     "output_type": "display_data"
    },
    {
     "name": "stdout",
     "output_type": "stream",
     "text": [
      "[jovian] Updating notebook \"askarizaidi3/python-random-forests-assignment\" on https://jovian.ai\u001b[0m\n",
      "[jovian] Committed successfully! https://jovian.ai/askarizaidi3/python-random-forests-assignment\u001b[0m\n",
      "[jovian] Submitting assignment..\u001b[0m\n",
      "[jovian] Verify your submission at https://jovian.ai/learn/machine-learning-with-python-zero-to-gbms/assignment/assignment-2-decision-trees-and-random-forests\u001b[0m\n"
     ]
    }
   ],
   "source": [
    "jovian.submit('zerotogbms-a2')"
   ]
  },
  {
   "cell_type": "markdown",
   "id": "matched-cornell",
   "metadata": {},
   "source": [
    "You can also submit your Jovian notebook link on the assignment page: https://jovian.ai/learn/machine-learning-with-python-zero-to-gbms/assignment/assignment-2-decision-trees-and-random-forests\n",
    "\n",
    "Make sure to review the evaluation criteria carefully. You can make any number of submissions, and only your final submission will be evalauted.\n",
    "\n",
    "Ask questions, discuss ideas and get help here: https://jovian.ai/forum/c/zero-to-gbms/gbms-assignment-2/99\n",
    "\n",
    "NOTE: **The rest of this assignment is optional.**"
   ]
  },
  {
   "cell_type": "markdown",
   "id": "further-scotland",
   "metadata": {},
   "source": [
    "## Making Predictions on the Test Set\n",
    "\n",
    "Let's make predictions on the test set provided with the data."
   ]
  },
  {
   "cell_type": "code",
   "execution_count": null,
   "id": "specialized-roots",
   "metadata": {},
   "outputs": [],
   "source": [
    "test_df = pd.read_csv('house-prices/test.csv')"
   ]
  },
  {
   "cell_type": "code",
   "execution_count": null,
   "id": "related-marshall",
   "metadata": {},
   "outputs": [],
   "source": [
    "test_df"
   ]
  },
  {
   "cell_type": "markdown",
   "id": "hourly-government",
   "metadata": {},
   "source": [
    "First, we need to reapply all the preprocessing steps."
   ]
  },
  {
   "cell_type": "code",
   "execution_count": null,
   "id": "sunset-chick",
   "metadata": {},
   "outputs": [],
   "source": [
    "test_df[numeric_cols] = imputer.transform(test_df[numeric_cols])\n",
    "test_df[numeric_cols] = scaler.transform(test_df[numeric_cols])\n",
    "test_df[encoded_cols] = encoder.transform(test_df[categorical_cols])"
   ]
  },
  {
   "cell_type": "code",
   "execution_count": null,
   "id": "thirty-contract",
   "metadata": {},
   "outputs": [],
   "source": [
    "test_inputs = test_df[numeric_cols + encoded_cols]"
   ]
  },
  {
   "cell_type": "markdown",
   "id": "secret-constitutional",
   "metadata": {},
   "source": [
    "We can now make predictions using our final model."
   ]
  },
  {
   "cell_type": "code",
   "execution_count": null,
   "id": "extreme-edinburgh",
   "metadata": {},
   "outputs": [],
   "source": [
    "test_preds = rf2.predict(test_inputs)"
   ]
  },
  {
   "cell_type": "code",
   "execution_count": null,
   "id": "solid-charger",
   "metadata": {},
   "outputs": [],
   "source": [
    "submission_df = pd.read_csv('house-prices/sample_submission.csv')"
   ]
  },
  {
   "cell_type": "code",
   "execution_count": null,
   "id": "fifth-adobe",
   "metadata": {},
   "outputs": [],
   "source": [
    "submission_df"
   ]
  },
  {
   "cell_type": "markdown",
   "id": "capital-seven",
   "metadata": {},
   "source": [
    "Let's replace the values of the `SalePrice` column with our predictions."
   ]
  },
  {
   "cell_type": "code",
   "execution_count": null,
   "id": "personal-learning",
   "metadata": {},
   "outputs": [],
   "source": [
    "submission_df['SalePrice'] = test_preds"
   ]
  },
  {
   "cell_type": "markdown",
   "id": "informed-monitoring",
   "metadata": {},
   "source": [
    "Let's save it as a CSV file and download it."
   ]
  },
  {
   "cell_type": "code",
   "execution_count": null,
   "id": "polish-missile",
   "metadata": {},
   "outputs": [],
   "source": [
    "submission_df.to_csv('submission.csv', index=False)"
   ]
  },
  {
   "cell_type": "code",
   "execution_count": null,
   "id": "acting-national",
   "metadata": {},
   "outputs": [],
   "source": [
    "from IPython.display import FileLink\n",
    "FileLink('submission.csv') # Doesn't work on Colab, use the file browser instead to download the file."
   ]
  },
  {
   "cell_type": "markdown",
   "id": "national-knowing",
   "metadata": {},
   "source": [
    "We can now submit this file to the competition: https://www.kaggle.com/c/house-prices-advanced-regression-techniques/submissions\n",
    "\n",
    "![](https://i.imgur.com/6h2vXRq.png)\n"
   ]
  },
  {
   "cell_type": "markdown",
   "id": "twelve-intention",
   "metadata": {},
   "source": [
    "> **(OPTIONAL) QUESTION**: Submit your predictions to the competition. Experiment with different models, feature engineering strategies and hyperparameters and try to reach the top 10% on the leaderboard."
   ]
  },
  {
   "cell_type": "code",
   "execution_count": null,
   "id": "super-beverage",
   "metadata": {},
   "outputs": [],
   "source": []
  },
  {
   "cell_type": "code",
   "execution_count": null,
   "id": "accredited-establishment",
   "metadata": {},
   "outputs": [],
   "source": []
  },
  {
   "cell_type": "markdown",
   "id": "pediatric-instruction",
   "metadata": {},
   "source": [
    "Let's save our work before continuing."
   ]
  },
  {
   "cell_type": "code",
   "execution_count": 6,
   "id": "seven-smooth",
   "metadata": {},
   "outputs": [
    {
     "data": {
      "application/javascript": [
       "window.require && require([\"base/js/namespace\"],function(Jupyter){Jupyter.notebook.save_checkpoint()})"
      ],
      "text/plain": [
       "<IPython.core.display.Javascript object>"
      ]
     },
     "metadata": {},
     "output_type": "display_data"
    },
    {
     "name": "stdout",
     "output_type": "stream",
     "text": [
      "[jovian] Updating notebook \"aakashns/python-random-forests-assignment\" on https://jovian.ai/\u001b[0m\n",
      "[jovian] Committed successfully! https://jovian.ai/aakashns/python-random-forests-assignment\u001b[0m\n"
     ]
    },
    {
     "data": {
      "text/plain": [
       "'https://jovian.ai/aakashns/python-random-forests-assignment'"
      ]
     },
     "execution_count": 6,
     "metadata": {},
     "output_type": "execute_result"
    }
   ],
   "source": [
    "jovian.commit()"
   ]
  },
  {
   "cell_type": "markdown",
   "id": "suffering-belize",
   "metadata": {},
   "source": [
    "### Making Predictions on Single Inputs"
   ]
  },
  {
   "cell_type": "code",
   "execution_count": 66,
   "id": "extended-hindu",
   "metadata": {},
   "outputs": [],
   "source": [
    "def predict_input(model, single_input):\n",
    "    input_df = pd.DataFrame([single_input])\n",
    "    input_df[numeric_cols] = imputer.transform(input_df[numeric_cols])\n",
    "    input_df[numeric_cols] = scaler.transform(input_df[numeric_cols])\n",
    "    input_df[encoded_cols] = encoder.transform(input_df[categorical_cols].values)\n",
    "    return model.predict(input_df[numeric_cols + encoded_cols])[0]"
   ]
  },
  {
   "cell_type": "code",
   "execution_count": 67,
   "id": "portuguese-concentration",
   "metadata": {},
   "outputs": [],
   "source": [
    "sample_input = { 'MSSubClass': 20, 'MSZoning': 'RL', 'LotFrontage': 77.0, 'LotArea': 9320,\n",
    " 'Street': 'Pave', 'Alley': None, 'LotShape': 'IR1', 'LandContour': 'Lvl', 'Utilities': 'AllPub',\n",
    " 'LotConfig': 'Inside', 'LandSlope': 'Gtl', 'Neighborhood': 'NAmes', 'Condition1': 'Norm', 'Condition2': 'Norm',\n",
    " 'BldgType': '1Fam', 'HouseStyle': '1Story', 'OverallQual': 4, 'OverallCond': 5, 'YearBuilt': 1959,\n",
    " 'YearRemodAdd': 1959, 'RoofStyle': 'Gable', 'RoofMatl': 'CompShg', 'Exterior1st': 'Plywood',\n",
    " 'Exterior2nd': 'Plywood', 'MasVnrType': 'None','MasVnrArea': 0.0,'ExterQual': 'TA','ExterCond': 'TA',\n",
    " 'Foundation': 'CBlock','BsmtQual': 'TA','BsmtCond': 'TA','BsmtExposure': 'No','BsmtFinType1': 'ALQ',\n",
    " 'BsmtFinSF1': 569,'BsmtFinType2': 'Unf','BsmtFinSF2': 0,'BsmtUnfSF': 381,\n",
    " 'TotalBsmtSF': 950,'Heating': 'GasA','HeatingQC': 'Fa','CentralAir': 'Y','Electrical': 'SBrkr', '1stFlrSF': 1225,\n",
    " '2ndFlrSF': 0, 'LowQualFinSF': 0, 'GrLivArea': 1225, 'BsmtFullBath': 1, 'BsmtHalfBath': 0, 'FullBath': 1,\n",
    " 'HalfBath': 1, 'BedroomAbvGr': 3, 'KitchenAbvGr': 1,'KitchenQual': 'TA','TotRmsAbvGrd': 6,'Functional': 'Typ',\n",
    " 'Fireplaces': 0,'FireplaceQu': np.nan,'GarageType': np.nan,'GarageYrBlt': np.nan,'GarageFinish': np.nan,'GarageCars': 0,\n",
    " 'GarageArea': 0,'GarageQual': np.nan,'GarageCond': np.nan,'PavedDrive': 'Y', 'WoodDeckSF': 352, 'OpenPorchSF': 0,\n",
    " 'EnclosedPorch': 0,'3SsnPorch': 0, 'ScreenPorch': 0, 'PoolArea': 0, 'PoolQC': np.nan, 'Fence': np.nan, 'MiscFeature': 'Shed',\n",
    " 'MiscVal': 400, 'MoSold': 1, 'YrSold': 2010, 'SaleType': 'WD', 'SaleCondition': 'Normal'}"
   ]
  },
  {
   "cell_type": "code",
   "execution_count": 68,
   "id": "reverse-duplicate",
   "metadata": {},
   "outputs": [],
   "source": [
    "predicted_price = predict_input(rf2, sample_input)"
   ]
  },
  {
   "cell_type": "code",
   "execution_count": 69,
   "id": "protective-elizabeth",
   "metadata": {},
   "outputs": [
    {
     "name": "stdout",
     "output_type": "stream",
     "text": [
      "The predicted sale price of the house is $121043.55673146293\n"
     ]
    }
   ],
   "source": [
    "print('The predicted sale price of the house is ${}'.format(predicted_price))"
   ]
  },
  {
   "cell_type": "markdown",
   "id": "unlimited-pursuit",
   "metadata": {},
   "source": [
    "> **EXERCISE**: Change the sample input above and make predictions. Try different examples and try to figure out which columns have a big impact on the sale price. Hint: Look at the feature importance to decide which columns to try."
   ]
  },
  {
   "cell_type": "code",
   "execution_count": null,
   "id": "unable-percentage",
   "metadata": {},
   "outputs": [],
   "source": []
  },
  {
   "cell_type": "code",
   "execution_count": null,
   "id": "legislative-decade",
   "metadata": {},
   "outputs": [],
   "source": []
  },
  {
   "cell_type": "markdown",
   "id": "eight-source",
   "metadata": {},
   "source": [
    "### Saving the Model"
   ]
  },
  {
   "cell_type": "code",
   "execution_count": 70,
   "id": "boring-insight",
   "metadata": {},
   "outputs": [],
   "source": [
    "import joblib"
   ]
  },
  {
   "cell_type": "code",
   "execution_count": 71,
   "id": "practical-distribution",
   "metadata": {},
   "outputs": [],
   "source": [
    "house_prices_rf = {\n",
    "    'model': rf2,\n",
    "    'imputer': imputer,\n",
    "    'scaler': scaler,\n",
    "    'encoder': encoder,\n",
    "    'input_cols': input_cols,\n",
    "    'target_col': target_col,\n",
    "    'numeric_cols': numeric_cols,\n",
    "    'categorical_cols': categorical_cols,\n",
    "    'encoded_cols': encoded_cols\n",
    "}"
   ]
  },
  {
   "cell_type": "code",
   "execution_count": 72,
   "id": "animated-spoke",
   "metadata": {},
   "outputs": [
    {
     "data": {
      "text/plain": [
       "['house_prices_rf.joblib']"
      ]
     },
     "execution_count": 72,
     "metadata": {},
     "output_type": "execute_result"
    }
   ],
   "source": [
    "joblib.dump(house_prices_rf, 'house_prices_rf.joblib')"
   ]
  },
  {
   "cell_type": "markdown",
   "id": "normal-culture",
   "metadata": {},
   "source": [
    "Let's save our work before continuing."
   ]
  },
  {
   "cell_type": "code",
   "execution_count": 73,
   "id": "fallen-primary",
   "metadata": {},
   "outputs": [
    {
     "data": {
      "application/javascript": [
       "window.require && require([\"base/js/namespace\"],function(Jupyter){Jupyter.notebook.save_checkpoint()})"
      ],
      "text/plain": [
       "<IPython.core.display.Javascript object>"
      ]
     },
     "metadata": {},
     "output_type": "display_data"
    },
    {
     "name": "stdout",
     "output_type": "stream",
     "text": [
      "[jovian] Updating notebook \"askarizaidi3/python-random-forests-assignment\" on https://jovian.ai\u001b[0m\n",
      "[jovian] Uploading additional outputs...\u001b[0m\n",
      "[jovian] Committed successfully! https://jovian.ai/askarizaidi3/python-random-forests-assignment\u001b[0m\n"
     ]
    },
    {
     "data": {
      "text/plain": [
       "'https://jovian.ai/askarizaidi3/python-random-forests-assignment'"
      ]
     },
     "execution_count": 73,
     "metadata": {},
     "output_type": "execute_result"
    }
   ],
   "source": [
    "jovian.commit(outputs=['house_prices_rf.joblib'])"
   ]
  },
  {
   "cell_type": "code",
   "execution_count": null,
   "id": "biblical-insight",
   "metadata": {},
   "outputs": [],
   "source": []
  },
  {
   "cell_type": "markdown",
   "id": "loved-clause",
   "metadata": {},
   "source": [
    "### Predicting the Logarithm of Sale Price"
   ]
  },
  {
   "cell_type": "markdown",
   "id": "talented-introduction",
   "metadata": {},
   "source": [
    "> **(OPTIONAL) QUESTION**: In the [original Kaggle competition](https://www.kaggle.com/c/house-prices-advanced-regression-techniques/overview/evaluation), the model is evaluated by computing the Root Mean Squared Error on the logarithm of the sale price. Try training a random forest to predict the logarithm of the sale price, instead of the actual sales price and see if the results you obtain are better than the models trained above."
   ]
  },
  {
   "cell_type": "code",
   "execution_count": null,
   "id": "driven-lobby",
   "metadata": {},
   "outputs": [],
   "source": []
  },
  {
   "cell_type": "code",
   "execution_count": null,
   "id": "entitled-island",
   "metadata": {},
   "outputs": [],
   "source": []
  }
 ],
 "metadata": {
  "kernelspec": {
   "display_name": "Python 3",
   "language": "python",
   "name": "python3"
  },
  "language_info": {
   "codemirror_mode": {
    "name": "ipython",
    "version": 3
   },
   "file_extension": ".py",
   "mimetype": "text/x-python",
   "name": "python",
   "nbconvert_exporter": "python",
   "pygments_lexer": "ipython3",
   "version": "3.9.5"
  }
 },
 "nbformat": 4,
 "nbformat_minor": 5
}
